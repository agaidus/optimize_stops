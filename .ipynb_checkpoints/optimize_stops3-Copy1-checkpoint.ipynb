{
 "cells": [
  {
   "cell_type": "markdown",
   "metadata": {},
   "source": [
    "## Introduction\n",
    "\n",
    "### Traveling Salesman Problem\n",
    "The traveling salesman problem is a classic optimization problem that seeks to find the most efficient route that connects a given set of points. I recently discovered a set of services built by the open-source mapping company, Mapzen, that make this complex problem easy to approximate for relatively small numbers of stops. Given a set of coordinates, the Mapzen [optimize route](https://mapzen.com/documentation/mobility/optimized/api-reference/) service uses road network data to produce a time-distance matrix betweent these points, and then calculates the route that minimizes the total travel time. This can be done for one of three modes of transportaion - pedestrian, bicycle, and car. They have a great [example](https://mapzen.com/blog/optimized-route/) with a cool map where they determine the optimal route to visit burrito 'dispensaries' in San Franscico.\n",
    "\n",
    "I use this root optimization tool in conjunction Mapzen's [Search](https://mapzen.com/documentation/search/) Service, which uses open source data to geocode addresses, landmarks, and businesses. Using these two services together is really handy, because it allows the user to specify locations without knowing their lat / long coordinates.\n",
    "\n",
    "### Extension to the TSP\n",
    "The Mapzen optimize route service takes a set of points and finds the optimal route that a person should take to visit all of these points. However, what if we have multiple \"salesmen\"? How should the stops be split up between people and in what order should each person visit their stops?\n",
    "\n",
    "The idea for this was spurred by a project I'm involved with at work, in which we are sending out multiple research assistants to conduct surveys at a dozen or so different sites in Oakland. In this case, it doesn't matter if one person conducts more surveys than other or who goes to which site - the goal is just to minimize the total time to get them all done. \n",
    "\n",
    "Perhaps a more interesting and relevant application (for me!), is the optimization of Sunday morning errands between my girlfriend, Celeste, and I. Say we're both starting and ending at our apartment in the Inner Richmond, SF and have 6 different places that we need to stop at. How should Celeste and I split up these errands so that we're done as quickly as possible? \n",
    "\n",
    "In the post below, I write a set of functions in Python that wrap these two Mapzen services to help me answer these questions. Additionally, I will use the Python package ```folium``` to create leaflet.js slippy maps to display the results of this optimzation problem. Folium has a number of built-in tilesets from OpenStreetMap, MapQuest, MapBox, and makes it really easy to build web maps in Python. Let's get started!"
   ]
  },
  {
   "cell_type": "code",
   "execution_count": 1,
   "metadata": {
    "collapsed": false
   },
   "outputs": [
    {
     "ename": "NameError",
     "evalue": "name 'os' is not defined",
     "output_type": "error",
     "traceback": [
      "\u001b[1;31m---------------------------------------------------------------------------\u001b[0m",
      "\u001b[1;31mNameError\u001b[0m                                 Traceback (most recent call last)",
      "\u001b[1;32m<ipython-input-1-4f840f6d7138>\u001b[0m in \u001b[0;36m<module>\u001b[1;34m()\u001b[0m\n\u001b[0;32m     13\u001b[0m \u001b[1;33m\u001b[0m\u001b[0m\n\u001b[0;32m     14\u001b[0m \u001b[0mget_ipython\u001b[0m\u001b[1;33m(\u001b[0m\u001b[1;33m)\u001b[0m\u001b[1;33m.\u001b[0m\u001b[0mmagic\u001b[0m\u001b[1;33m(\u001b[0m\u001b[1;34mu'matplotlib inline'\u001b[0m\u001b[1;33m)\u001b[0m\u001b[1;33m\u001b[0m\u001b[0m\n\u001b[1;32m---> 15\u001b[1;33m \u001b[0msearch_key\u001b[0m \u001b[1;33m=\u001b[0m \u001b[0mos\u001b[0m\u001b[1;33m.\u001b[0m\u001b[0mgetenv\u001b[0m\u001b[1;33m(\u001b[0m\u001b[1;34m'SEARCH_KEY'\u001b[0m\u001b[1;33m)\u001b[0m\u001b[1;33m\u001b[0m\u001b[0m\n\u001b[0m\u001b[0;32m     16\u001b[0m \u001b[0mmatrix_key\u001b[0m \u001b[1;33m=\u001b[0m \u001b[0mos\u001b[0m\u001b[1;33m.\u001b[0m\u001b[0mgetenv\u001b[0m\u001b[1;33m(\u001b[0m\u001b[1;34m'MATRIX_KEY'\u001b[0m\u001b[1;33m)\u001b[0m\u001b[1;33m\u001b[0m\u001b[0m\n",
      "\u001b[1;31mNameError\u001b[0m: name 'os' is not defined"
     ]
    }
   ],
   "source": [
    "import requests\n",
    "import pandas as pd\n",
    "import itertools\n",
    "import shapely\n",
    "from shapely.geometry import Point\n",
    "import geopandas as gpd\n",
    "import json\n",
    "import numpy as np\n",
    "import folium\n",
    "from numpy.random import RandomState, uniform\n",
    "import time\n",
    "import sys\n",
    "import os\n",
    "\n",
    "%matplotlib inline\n",
    "search_key='search-WWoh7Na'\n",
    "matrix_key='matrix-gjM8nT3'"
   ]
  },
  {
   "cell_type": "markdown",
   "metadata": {},
   "source": [
    "## Geocoding Locations with Mapzen's Search Tool\n",
    "I first write a function that wraps Mapzen's Search tool in order to geocode (obtain the lat / long coordinates for) an address, landmark, or business. The function returns a dictionary containg the raw result output from Mapzen (includes stuff such as data source, geocoding confidence, neighborhood data, etc), as well as the crucial piece of information for me - a formatted set of xy coordinates. By default I return only 1 result (the top result), but if I were to use this tool for a different context, I would perhaps be interested in returning a set of results. Below I use this function to geocode two famous San Francisco landmarks - the Transamerica Pyramid and Sutro Tower."
   ]
  },
  {
   "cell_type": "code",
   "execution_count": null,
   "metadata": {
    "collapsed": true
   },
   "outputs": [],
   "source": [
    "def geocode_address_venue(text, key = search_key,params = None): #allow for additional Mapzen search parameters\n",
    "    search_parameters = {'api_key': key,'text': text,'size': 1,'layers': 'address,venue'}\n",
    "    if params:\n",
    "        search_parameters.update(params)\n",
    "    url = 'http://search.mapzen.com/v1/search'\n",
    "    r = requests.get(url, params = search_parameters)\n",
    "    data = r.json()\n",
    "    return {'raw': data,'coords': tuple(data['features'][0]['geometry']['coordinates'])}"
   ]
  },
  {
   "cell_type": "code",
   "execution_count": null,
   "metadata": {
    "collapsed": false
   },
   "outputs": [],
   "source": [
    "transamerica = geocode_address_venue('Transamerica Pyramid, San Francisco, CA')['coords']\n",
    "sutro = geocode_address_venue('Sutro Tower, San Francisco, CA')['coords']\n",
    "print transamerica\n",
    "print sutro"
   ]
  },
  {
   "cell_type": "markdown",
   "metadata": {},
   "source": [
    "## Displaying Points on Leaflet Maps\n",
    "Now let's put these points on a map. I write a plotting function below that takes a list of coordinates and displays them on a Leaflet map. By default I use the Stamen Watercolor tiles because I think they look really cool, but if something like OpenStreetMap is more useful, that can also be specfied. The full set of available tile layers can be found [here](https://github.com/python-visualization/folium). The function also takes an optional set of colors and point labels, a zoom-level, and a center location. My function calculates default values if not specified. \n",
    "\n",
    "The function is written in a way that it accepts either a list of point coordinates, or a list of lists of point coordinates. If the latter is specified, each sublist is treated as a group of coordinates and will be symbolized in the same color. The function was ultimately written this way to make it easy to distinguish locations that each \"salesman\" will visit in the optimization problem coming later. Additionally, I allow for the specification of polyline coordinates, which will ultimately be used to plot an optimized route between the points.\n",
    "\n",
    "Below I map my two previously geocoded San Francisco landmarks along with the straight line that connects them, on Stamen Toner tiles. Note that on the 'live' map if you click on the points you will see that they are labeled appropriately."
   ]
  },
  {
   "cell_type": "code",
   "execution_count": null,
   "metadata": {
    "collapsed": false
   },
   "outputs": [],
   "source": [
    "def plot_stops(point_coords, zoom_level = 15,tiles = 'Stamen Watercolor', point_colors = None, \n",
    "               labels = None, center_location = None, line_coords = None, line_colors = None):\n",
    "   \n",
    "    #if not a list of lists, make it one, which then allows the function to handle either\n",
    "    point_coords = [[x] for x in point_coords] if all([type(x) is not list for x in point_coords]) else point_coords\n",
    "    if labels:\n",
    "        labels = [[x] for x in labels] if all([type(x) is not list for x in labels]) else labels\n",
    "    if line_coords:\n",
    "        line_coords = [line_coords] if all([type(t) is tuple for t in line_coords]) else line_coords\n",
    "    \n",
    "    if line_colors:\n",
    "        line_colors = [line_colors] if type(line_colors) is not list else line_colors\n",
    "\n",
    "    #get all points as the flattened list to calculate the center\n",
    "    all_points = [item for sublist in point_coords for item in sublist]\n",
    "    #calculate start location as the mean x and mean y of all input points\n",
    "    if center_location:\n",
    "        center_location = [center_location[1],center_location[0]]\n",
    "    else:\n",
    "        center_location = np.array(all_points).mean(0).tolist()[::-1]\n",
    "    \n",
    "    #create a leaflet map, specifying center location, zoom level, and tiles\n",
    "    map_1 = folium.Map(location = center_location,zoom_start = zoom_level,tiles = tiles)\n",
    "    \n",
    "    #specify a set of default colors\n",
    "    color_options = ['black', 'blue', 'red', 'green', 'purple', 'orange', 'pink', 'white']\n",
    "    \n",
    "    #if no point colors specified use the default\n",
    "    point_colors = point_colors if point_colors else color_options[:len(point_coords)]\n",
    "    \n",
    "    #if plotting lines as well, get line colors, otherwise use default\n",
    "    if line_coords:\n",
    "        line_colors = line_colors if line_colors else color_options[1:][:len(line_coords)]\n",
    "\n",
    "    #loop through each point or grouping of points\n",
    "    for c, point_coords in enumerate(point_coords):\n",
    "        point_color = point_colors[c] #get color from color list\n",
    "\n",
    "        if labels: sublabel_list = labels[c] #get labels from label list\n",
    "        for i, stop_coord in enumerate(point_coords): \n",
    "            label = sublabel_list[i] if labels else None\n",
    "            #Add point to map at specified coordinate \n",
    "            folium.Marker([stop_coord[1], stop_coord[0]], popup = label, #need to reverse long/lat to lat/long\n",
    "                           icon = folium.Icon(color = point_color)).add_to(map_1)\n",
    "    \n",
    "    #if plotting lines, loop through each set of lines and plot\n",
    "    if line_coords:\n",
    "        for i, pline in enumerate(line_coords):\n",
    "            line_color = line_colors[i]\n",
    "            folium.PolyLine([(y,x) for (x,y) in pline], color = line_color).add_to(map_1) #need to reverse long/lat to lat/long\n",
    "    return map_1"
   ]
  },
  {
   "cell_type": "code",
   "execution_count": null,
   "metadata": {
    "collapsed": false
   },
   "outputs": [],
   "source": [
    "sf_landmarks = plot_stops([transamerica, sutro], labels = ['Transamerica Pyramid','Sutro Tower'], \n",
    "            zoom_level = 13, tiles = 'Stamen Toner', point_colors = ['red','blue'],\n",
    "            line_coords = [transamerica, sutro], line_colors = 'purple')\n",
    "sf_landmarks"
   ]
  },
  {
   "cell_type": "markdown",
   "metadata": {},
   "source": [
    "I also demonstrate how a list of list of points can be passed to my plotting function, resulting in each set of points getting symbolized in a different color. I write a function that generates random points within a polygon, and use that to generate 6 lists of 5 points located in San Francisco (boundaries read in from a geosjon). I plot them below. Here the point are labeled by there group number (1-6) and their point number within their group (1-5)."
   ]
  },
  {
   "cell_type": "code",
   "execution_count": null,
   "metadata": {
    "collapsed": true
   },
   "outputs": [],
   "source": [
    "def gen_random_points(poly, n, random_seed = None):\n",
    "    xmin, ymin, xmax, ymax = poly.bounds\n",
    "    Points = []\n",
    "    i = 0\n",
    "    while len(Points) <= n:\n",
    "        if random_seed:\n",
    "            x, y = RandomState(random_seed + i).uniform(xmin, xmax), RandomState(random_seed + i + 1).uniform(ymin, ymax)\n",
    "        else:\n",
    "            x, y = uniform(xmin, xmax),uniform(ymin, ymax)\n",
    "        if Point(x, y).within(poly):\n",
    "            Points.append((x, y))\n",
    "        i += 1\n",
    "    return Points"
   ]
  },
  {
   "cell_type": "code",
   "execution_count": null,
   "metadata": {
    "collapsed": false
   },
   "outputs": [],
   "source": [
    "SF = gpd.read_file('SF.geojson').iloc[0]['geometry']\n",
    "rand_points = [gen_random_points(SF, n = 5) for t in range(6)]\n",
    "labels = [[str((t, i)) for i, x in enumerate(l, 1)] for t, l in enumerate(rand_points, 1)]\n",
    "\n",
    "sf_rand_points = plot_stops(rand_points, zoom_level = 12, tiles = 'Stamen Toner', labels = labels)\n",
    "sf_rand_points"
   ]
  },
  {
   "cell_type": "markdown",
   "metadata": {},
   "source": [
    "## Determining Stop Order using Mapzen's Optimize Route Service \n",
    "Now that I have tools to geocode and visualize points, I'm ready write a function that uses the optimize route tool to determine the an optimal order in which one person should visit a set of points. Later on, I will build off of this function to optimize stops for multiple people, but this is an initial building-block.\n",
    "\n",
    "My function is written in a way that the start and end location are assumed to be the same, although this could easily be tweaked. The function takes a \"home\" location, a set of stops, and calculates the quickest route to go from home, to each of these stops, and back. It returns a dictionary of the raw output, as well as the pieces of information that are most relevant for my purposes - trip length, trip distance, optimized stop order, stop coordinates, and route coordinates.\n",
    "\n",
    "Note that Mapzen uses the [Google Maps encoded polyline format](https://developers.google.com/maps/documentation/utilities/polylinealgorithm) to store a series of latitude, longitude coordinates as a single string (this is done to reduce the size of the route). However, for my purposes, I need the string decoded into a list of lat/long coordinates. Mapzen provides [code](https://mapzen.com/documentation/mobility/decoding/) that can be used to decode the string, which I use below.\n",
    "\n",
    "My function then wraps the geocoding function I wrote above, so that the user can specify any combination of addresses, venues, and coordinates (if coordinates are specified they are not passed to the geocoding function).  It defaults to pedestrian mode of transportation, but can also optimize driving and biking routes.\n",
    "\n",
    "I also allow the user to specify a set of stop labels, which will be returned as the ordered list of stops. Otherwise, the function defaults to the raw input that was passed to the function."
   ]
  },
  {
   "cell_type": "code",
   "execution_count": null,
   "metadata": {
    "collapsed": false
   },
   "outputs": [],
   "source": [
    "#Decoding function used to extract lat/long coordinates from google maps encoded polylines\n",
    "#https://mapzen.com/documentation/mobility/decoding/\n",
    "\n",
    "#six degrees of precision in valhalla\n",
    "inv = 1.0 / 1e6;\n",
    "#decode an encoded string\n",
    "def decode(encoded):\n",
    "    decoded = []\n",
    "    previous = [0,0]\n",
    "    i = 0\n",
    "    #for each byte\n",
    "    while i < len(encoded):\n",
    "        #for each coord (lat, lon)\n",
    "        ll = [0, 0]\n",
    "        for j in [0, 1]:\n",
    "            shift = 0\n",
    "            byte = 0x20\n",
    "            #keep decoding bytes until you have this coord\n",
    "            while byte >=  0x20:\n",
    "                byte = ord(encoded[i]) - 63\n",
    "                i +=  1\n",
    "                ll[j] |=  (byte & 0x1f) << shift\n",
    "                shift +=  5\n",
    "            #get the final value adding the previous offset and remember it for the next\n",
    "            ll[j] = previous[j] + (~(ll[j] >> 1) if ll[j] & 1 else (ll[j] >> 1))\n",
    "            previous[j] = ll[j]\n",
    "            #scale by the precision and chop off long coords also flip the positions so\n",
    "            #its the far more standard lon,lat instead of lat,lon\n",
    "        decoded.append([float('%.6f' % (ll[1] * inv)), float('%.6f' % (ll[0] * inv))])\n",
    "    #hand back the list of coordinates\n",
    "    return decoded"
   ]
  },
  {
   "cell_type": "code",
   "execution_count": null,
   "metadata": {
    "collapsed": false
   },
   "outputs": [],
   "source": [
    "def optimize_stops(home, stops, costing = 'pedestrian', api_key = matrix_key, home_label = 'Home',\n",
    "                  stop_labels = None):\n",
    "    \n",
    "    #geocode home and stops if not a coordinate\n",
    "    home = home if type(home) is tuple else geocode_address_venue(home)\n",
    "    stops = [geocode_address_venue(stop)['coords'] if type(stop) is not tuple else stop for stop in stops]\n",
    "    \n",
    "    #full set of points are list of points that start and end with the home location\n",
    "    points = [home] + stops + [home]\n",
    "    \n",
    "    #define point labels\n",
    "    names = [home_label] + (stop_labels if stop_labels else stops) + [home_label]\n",
    "    \n",
    "    #set up parameters to pass to mapzen function\n",
    "    js = {'locations':[{'lon': point[0], 'lat': point[1]} for point in points], 'costing': costing}\n",
    "    params = {'json': json.dumps(js), 'api_key': api_key}\n",
    "    url = 'https://matrix.mapzen.com/optimized_route'\n",
    "    r = requests.get(url, params = params)\n",
    "    raw = r.json()\n",
    "    \n",
    "    #get the coordinates of the stops in their new optimized order\n",
    "    locs = raw['trip']['locations']\n",
    "    new_point_order = [(locs[loc]['lon'], locs[loc]['lat']) for loc in range(len(locs))]\n",
    "    \n",
    "    #the new points returned from the mapzen tool need to be matched up to my original set of points passed\n",
    "    #to the function, so that the point name order can be determined. The mapzen points are not exactly the same \n",
    "    #values as the original points passed (they are probably located to the nearest street or something). \n",
    "    #Therefore, I link the new points and the original points by rounding the coordinates to account for \n",
    "    #differences in input and output. This is then used to calculate the order of the point names\n",
    "    new_point_order_rounded = [(round(x, 3), round(y, 3)) for (x, y) in new_point_order]\n",
    "    original_points_rounded = [(round(x, 3), round(y, 3)) for (x, y) in points]\n",
    "    point_order = [original_points_rounded.index(x) for x in new_point_order_rounded]\n",
    "    name_order = [names[i] for i in point_order]\n",
    "    \n",
    "    #Extract the path shape for each of the legs, decode them, and then combine into one polyline\n",
    "    raw_path = [raw['trip']['legs'][x]['shape'] for x in range(len(raw['trip']['legs']))]\n",
    "    decode_paths = [tuple(item) for sublist in [decode(z) for z in raw_path] for item in sublist]\n",
    "    \n",
    "    #return a dictionary that contains raw mapzen output, trip time, trip distance, new ordered points, \n",
    "    #new ordered point names, and a decoded path\n",
    "    return {'raw': raw, \n",
    "    'time': raw['trip']['summary']['time']/60,\n",
    "    'length': raw['trip']['summary']['length'], \n",
    "    'points': new_point_order,\n",
    "    'order': name_order,\n",
    "    'line': decode_paths}"
   ]
  },
  {
   "cell_type": "markdown",
   "metadata": {},
   "source": [
    "Below, I set up the parameters that I will pass to the optimize route function. I specify a list of 6 stops in my neighborhood that Celeste and I will need to visit as part of our Sunday morning errands (note that I use a combination of business names, addresses, and coordinates). I also specify the set of names that correspond to these stops, that will be used just to make the labeling easier. As much as I wish it were the case, our Sunday errands generally do not involve ice cream, pizza, bagels, and art museums. Nonetheless, for this example I've included my favorite desinations of these types as stops that we need to make.\n",
    "\n",
    "Lastly, I specify our approximate home coordinates that we will be routing to and from."
   ]
  },
  {
   "cell_type": "code",
   "execution_count": null,
   "metadata": {
    "collapsed": false
   },
   "outputs": [],
   "source": [
    "stops = ['Toy Boat Dessert Cafe, San Francisco, CA',\n",
    "       'Pizzetta 211, San Francisco, CA', \n",
    "       'Arguello Super Market, San Francisco, CA',\n",
    "       '4700 Geary Blvd, San Francisco, CA',\n",
    "       (-122.465613, 37.770016),\n",
    "       '3519 California St, San Francisco, CA 94118']\n",
    "\n",
    "stop_labels = ['Toy Boat',\n",
    "             'Pizzetta',\n",
    "             'Arguello Market',\n",
    "             'Lamps Plus',\n",
    "             'de Young Museum',\n",
    "             \"Noah's Bagels\"]\n",
    "\n",
    "home = (-122.464186, 37.779111)"
   ]
  },
  {
   "cell_type": "markdown",
   "metadata": {},
   "source": [
    "I then apply this function to my set of stops and return the optimized stop order, the route time, and the route distance. I first optimize the route as a pedestrian and then as a bicyclist. As you can see, the stop order is slightly different for these two modes of transit, likely keeping the bike route on roads / paths that are better for biking."
   ]
  },
  {
   "cell_type": "code",
   "execution_count": null,
   "metadata": {
    "collapsed": false
   },
   "outputs": [],
   "source": [
    "walk_opt = optimize_stops(home, stops, stop_labels = stop_labels)\n",
    "print walk_opt['order']\n",
    "print str(walk_opt['time']) + ' minutes'\n",
    "print str(walk_opt['length']) + ' km'"
   ]
  },
  {
   "cell_type": "code",
   "execution_count": null,
   "metadata": {
    "collapsed": false
   },
   "outputs": [],
   "source": [
    "bike_opt = optimize_stops(home, stops, stop_labels = stop_labels,costing = 'bicycle')\n",
    "print bike_opt['order']\n",
    "print str(bike_opt['time']) + ' minutes'\n",
    "print str(bike_opt['length']) + ' km'"
   ]
  },
  {
   "cell_type": "markdown",
   "metadata": {},
   "source": [
    "## Determining Stops and Order with Multiple People"
   ]
  },
  {
   "cell_type": "markdown",
   "metadata": {},
   "source": [
    "Now that I have a working function that wraps Mapzen's optimize route service, I am ready to extend it work with multiple people. The general approach is to first find the unique combinations that a list of stops can be split among a given number of people, and then determine in which of these combinations minimizes the maximum time of any 1 person. \n",
    "\n",
    "### Unique ways that stops can be split\n",
    "I use a function adapted from [here](http://stackoverflow.com/a/39199937/3776938) to find the unique ways in that a list of N elements can be partitioned into K groups. This function is written so that the order of groups or of elements within a group does not matter. By this I mean that ```[['A','B'],['C','D']]``` is considered identical to ```[['C','D'],['A','B']]``` as well as to ```[['B','A'],['C','D']]```."
   ]
  },
  {
   "cell_type": "code",
   "execution_count": null,
   "metadata": {
    "collapsed": false
   },
   "outputs": [],
   "source": [
    "def sorted_k_partitions(seq, k):\n",
    "    n = len(seq)\n",
    "    working_partition = []\n",
    "\n",
    "    def generate_partitions(i):\n",
    "        if i >=  n:\n",
    "            yield list(map(tuple, working_partition))\n",
    "        else:\n",
    "            if n - i > k - len(working_partition):\n",
    "                for part in working_partition:\n",
    "                    part.append(seq[i])\n",
    "                    for bar in generate_partitions(i + 1):\n",
    "                        yield bar\n",
    "                    part.pop()\n",
    "\n",
    "            if len(working_partition) < k:\n",
    "                working_partition.append([seq[i]])\n",
    "                for bar in generate_partitions(i + 1):\n",
    "                    yield bar\n",
    "                working_partition.pop()\n",
    "\n",
    "    result = generate_partitions(0)\n",
    "\n",
    "    # Sort the parts in each partition in shortlex order and then by the length of each part, \n",
    "    #and then lexicographically\n",
    "    result = [sorted(ps, key = lambda p: (len(p), p)) for ps in result]\n",
    "    result = sorted(result, key = lambda ps: (map(len, ps), ps))\n",
    "    return result"
   ]
  },
  {
   "cell_type": "markdown",
   "metadata": {},
   "source": [
    "I demonstrate an application of the function below, showing the 7 unique ways that 4 stops can be split among 3 people. Obviously if I were to split these 4 stops among 4 people or among 1 person, there is only 1 possible solution for each case (as shown below). "
   ]
  },
  {
   "cell_type": "code",
   "execution_count": null,
   "metadata": {
    "collapsed": false
   },
   "outputs": [],
   "source": [
    "for c in sorted_k_partitions(['A', 'B', 'C', 'D'], 2):\n",
    "    print c"
   ]
  },
  {
   "cell_type": "code",
   "execution_count": null,
   "metadata": {
    "collapsed": false
   },
   "outputs": [],
   "source": [
    "for c in sorted_k_partitions(['A', 'B', 'C', 'D'], 4):\n",
    "    print c"
   ]
  },
  {
   "cell_type": "code",
   "execution_count": null,
   "metadata": {
    "collapsed": false
   },
   "outputs": [],
   "source": [
    "for c in sorted_k_partitions(['A', 'B', 'C', 'D'], 1):\n",
    "    print c"
   ]
  },
  {
   "cell_type": "markdown",
   "metadata": {},
   "source": [
    "### Optimizing Stops Among K People\n",
    "I then write a function that wraps my single-person route optimization function. The function applies the original function to each unique way that the stops can be partitioned, and determines the the partition that minimizes the maximum time of the travelers. The input is identical to the original function except for the ```num_travelers``` parameter. If ```num_travelers``` is set to 1, the result will be identical between the two functions.\n",
    "\n",
    "The output too is nearly identical to the previous function - a dictionary containing stop order, stop points, and trip time. However, now the function returns a list of these values, where the length of the list is equal to the number of travelers."
   ]
  },
  {
   "cell_type": "code",
   "execution_count": null,
   "metadata": {
    "collapsed": true
   },
   "outputs": [],
   "source": [
    "def optimize_stops_mult(home, stops, num_travelers, costing = 'pedestrian', api_key = matrix_key, home_label = 'Home',\n",
    "                  stop_labels = None):\n",
    "    #get all possible options in which the stops can be broken up between the specified number of travelers\n",
    "    options = sorted_k_partitions(stops, num_travelers)\n",
    "    #create lists to store sublists of the time, name order, and point order for each option and traveler\n",
    "    all_times = []\n",
    "    all_orders = []\n",
    "    all_points = []\n",
    "    all_lines = []\n",
    "    for option in options: #loop through each possible way to split the stops\n",
    "        #create lists to store the time, name order, and point order for each traveler\n",
    "        option_times = [] \n",
    "        option_orders = []\n",
    "        option_points = []\n",
    "        option_lines = []\n",
    "        #calculate the optimal stop order for each traveler with each set of stop options\n",
    "        #using the previously defined function\n",
    "        #append relevant information to lists\n",
    "        for traveler in option:\n",
    "            sub_labels = [stop_labels[stops.index(x)] for x in traveler] if stop_labels else None\n",
    "\n",
    "            result = optimize_stops(home = home, stops = list(traveler), costing = costing, api_key = api_key,\n",
    "                                  home_label = home_label, stop_labels = sub_labels)\n",
    "            option_times.append(result['time'])\n",
    "            option_orders.append(result['order'])\n",
    "            option_points.append(result['points'])\n",
    "            option_lines.append(result['line'])\n",
    "\n",
    "        all_times.append(option_times)\n",
    "        all_orders.append(option_orders)\n",
    "        all_points.append(option_points)\n",
    "        all_lines.append(option_lines)\n",
    "\n",
    "    #get the index of the option that minimizes the max of any time that a traveler takes\n",
    "    minloc = np.argmin([sum(time) for time in all_times])\n",
    "    \n",
    "    #return a dictionary of the stop order, points, and time for the optimized options\n",
    "    opt_order = [x[1: -1] for x in all_orders[minloc]]\n",
    "    opt_times = all_times[minloc]\n",
    "    opt_points = [x[1: -1] for x in all_points[minloc]]\n",
    "    home_point = [x[0] for x in all_points[minloc]][0]\n",
    "    polylines = all_lines[minloc]\n",
    "    return {'order': opt_order, 'time': opt_times, 'points': opt_points, 'home_point': home_point, 'lines':polylines}\n"
   ]
  },
  {
   "cell_type": "markdown",
   "metadata": {},
   "source": [
    "I use the same set of 6 stops in the Inner Richmond, but now specify that there will be two travelers. I extract the ordered set of stops for each of the two travelers, the time (in minutes) that each person's trip will take, and then plot the stops as well as the routes on a map.\n",
    "\n",
    "As you can see, when I extract the stop order from the dictionary I get a list of two ordered sublists. This indicates that the first person should go to Pizzetta and Lamps Plus and the second person should go to Toy Boat, Noah's Bagels, Arguello, Market, and the de Young Museum (in that order). It may seem unfair that one person has to do 4 stops and the other only 2, but as you can see on the map, Pizzetta is much further away from home than the others. The person that makes the two stop trip will spend 53 minutes and the person that makes the four stop trip will spend 68 minutes. 68 minutes is the minimum amount of time that the person with the longer trip takes in any combination ways that these can be partitioned. \n",
    "\n",
    "In the map, the home location is shown in black, and each person's stops are shown in a different color. Stops are labeled with the stop name as well as the stop number (showing the order that the stops should be visited by each person)."
   ]
  },
  {
   "cell_type": "code",
   "execution_count": null,
   "metadata": {
    "collapsed": false
   },
   "outputs": [],
   "source": [
    "opt_2_people = optimize_stops_mult(home, stops, num_travelers = 2, stop_labels = stop_labels)"
   ]
  },
  {
   "cell_type": "code",
   "execution_count": null,
   "metadata": {
    "collapsed": false
   },
   "outputs": [],
   "source": [
    "for i in opt_2_people['order']:\n",
    "    print i"
   ]
  },
  {
   "cell_type": "code",
   "execution_count": null,
   "metadata": {
    "collapsed": false
   },
   "outputs": [],
   "source": [
    "opt_2_people['time']\n"
   ]
  },
  {
   "cell_type": "code",
   "execution_count": null,
   "metadata": {
    "collapsed": false
   },
   "outputs": [],
   "source": [
    "points = [[opt_2_people['home_point']]] + opt_2_people['points']\n",
    "labels = [['Home']] + [[' - '.join((str(i), x)) for i, x in enumerate(l, 1)] for l in opt_2_people['order']]\n",
    "\n",
    "\n",
    "m1 = plot_stops(points, zoom_level = 14, tiles = 'Stamen Watercolor', labels = labels, line_coords = opt_2_people['lines'])\n",
    "m1"
   ]
  },
  {
   "cell_type": "markdown",
   "metadata": {},
   "source": [
    "I also run the function on the same set of stops, this time specifying bike transportation. As you can see the routes are slightly different, favoring roads that are better for biking. The times are also much shorter (12 and 18 minutes vs 53 and 68)."
   ]
  },
  {
   "cell_type": "code",
   "execution_count": 44,
   "metadata": {
    "collapsed": false
   },
   "outputs": [
    {
     "name": "stdout",
     "output_type": "stream",
     "text": [
      "[12, 18]\n"
     ]
    }
   ],
   "source": [
    "opt_2_people_bike = optimize_stops_mult(home, stops, num_travelers = 2, stop_labels = stop_labels, costing = 'bicycle')\n",
    "print opt_2_people_bike['time']"
   ]
  },
  {
   "cell_type": "code",
   "execution_count": 38,
   "metadata": {
    "collapsed": false
   },
   "outputs": [
    {
     "data": {
      "text/html": [
       "<div style=\"width:100%;\"><div style=\"position:relative;width:100%;height:0;padding-bottom:60%;\"><iframe src=\"data:text/html;base64,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\" style=\"position:absolute;width:100%;height:100%;left:0;top:0;\"></iframe></div></div>"
      ],
      "text/plain": [
       "<folium.folium.Map at 0xda87910>"
      ]
     },
     "execution_count": 38,
     "metadata": {},
     "output_type": "execute_result"
    }
   ],
   "source": [
    "points = [[opt_2_people_bike['home_point']]] + opt_2_people_bike['points']\n",
    "labels = [['Home']]+[[' - '.join((str(i), x)) for i, x in enumerate(l, 1)] for l in opt_2_people_bike['order']]\n",
    "\n",
    "m2 = plot_stops(points, zoom_level = 14, tiles = 'Stamen Watercolor', labels = labels, line_coords = opt_2_people_bike['lines'])\n",
    "m2"
   ]
  },
  {
   "cell_type": "markdown",
   "metadata": {},
   "source": [
    "Now let's say that Celeste and I have a friend who's willing to help us with our errands. I run the optimization function again, now specifying 3 travelers. The results from this indicated that one person should go to Pizzetta, one person should go to Toy Boat and Noah's Bagels, and one person should go to Lamp's Plus, the de Young, and Arguello Market. In this case, the person with the fewest amount of stops has the longest travel time (52 minutes), and the full set of errands will be made 15 minutes faster than it was with only 2 people."
   ]
  },
  {
   "cell_type": "code",
   "execution_count": 39,
   "metadata": {
    "collapsed": false
   },
   "outputs": [],
   "source": [
    "opt_3_people = optimize_stops_mult(home, stops, 3, stop_labels = stop_labels)"
   ]
  },
  {
   "cell_type": "code",
   "execution_count": 40,
   "metadata": {
    "collapsed": false
   },
   "outputs": [
    {
     "name": "stdout",
     "output_type": "stream",
     "text": [
      "['Pizzetta']\n",
      "['Toy Boat', \"Noah's Bagels\"]\n",
      "['Lamps Plus', 'de Young Museum', 'Arguello Market']\n"
     ]
    }
   ],
   "source": [
    "for i in opt_3_people['order']:\n",
    "    print i"
   ]
  },
  {
   "cell_type": "code",
   "execution_count": 41,
   "metadata": {
    "collapsed": false
   },
   "outputs": [
    {
     "data": {
      "text/plain": [
       "[52, 44, 49]"
      ]
     },
     "execution_count": 41,
     "metadata": {},
     "output_type": "execute_result"
    }
   ],
   "source": [
    "opt_3_people['time']"
   ]
  },
  {
   "cell_type": "code",
   "execution_count": 42,
   "metadata": {
    "collapsed": false
   },
   "outputs": [
    {
     "data": {
      "text/html": [
       "<div style=\"width:100%;\"><div style=\"position:relative;width:100%;height:0;padding-bottom:60%;\"><iframe src=\"data:text/html;base64,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\" style=\"position:absolute;width:100%;height:100%;left:0;top:0;\"></iframe></div></div>"
      ],
      "text/plain": [
       "<folium.folium.Map at 0xd6faa10>"
      ]
     },
     "execution_count": 42,
     "metadata": {},
     "output_type": "execute_result"
    }
   ],
   "source": [
    "points = [[opt_3_people['home_point']]] + opt_3_people['points']\n",
    "labels = [['Home']] + [[' - '.join((str(i), x)) for i, x in enumerate(l, 1)] for l in opt_3_people['order']]\n",
    "\n",
    "m3 = plot_stops(points, zoom_level = 14, tiles = 'Stamen Watercolor', labels = labels,line_coords = opt_3_people['lines'])\n",
    "m3"
   ]
  },
  {
   "cell_type": "code",
   "execution_count": 43,
   "metadata": {
    "collapsed": false
   },
   "outputs": [],
   "source": [
    "sf_landmarks.save('sutro_transamerica.html')\n",
    "sf_rand_points.save('sf_random_points.html')\n",
    "m1.save('optimize_stops_2_people_walk.html')\n",
    "m2.save('optimize_stops_2_people_bike.html')\n",
    "m3.save('optimize_stops_3_people_walk.html')\n"
   ]
  }
 ],
 "metadata": {
  "kernelspec": {
   "display_name": "Python 2",
   "language": "python",
   "name": "python2"
  },
  "language_info": {
   "codemirror_mode": {
    "name": "ipython",
    "version": 2
   },
   "file_extension": ".py",
   "mimetype": "text/x-python",
   "name": "python",
   "nbconvert_exporter": "python",
   "pygments_lexer": "ipython2",
   "version": "2.7.11"
  }
 },
 "nbformat": 4,
 "nbformat_minor": 0
}
