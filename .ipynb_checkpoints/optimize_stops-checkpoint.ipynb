{
 "cells": [
  {
   "cell_type": "markdown",
   "metadata": {},
   "source": [
    "## Introduction\n",
    "\n",
    "### Traveling Salesman Problem\n",
    "The traveling salesman problem is a classic optimization problem that seeks to find the most efficient route that connects a given set of points. I recently discovered a set of services built by the open-source mapping company, Mapzen, that make this complex problem easy to approximate for relatively small numbers of stops. Given a set of coordinates, the Mapzen [optimize route](https://mapzen.com/documentation/mobility/optimized/api-reference/) service uses road network data to produce a time-distance matrix betweent these points, and then calculates the route that minimizes the total travel time. This can be done for one of three modes of transportaion - pedestrian, bicycle, and car. They have a great [example](https://mapzen.com/blog/optimized-route/) with a cool map where they determine the optimal route to visit burrito 'dispensaries' in San Franscico.\n",
    "\n",
    "I use this root optimization tool in conjunction Mapzen's [Search](https://mapzen.com/documentation/search/) Service, which uses open source data to geocode addresses, landmarks, and businesses. Using these two services together is really handy, because it allows the user to specify locations without knowing their lat / long coordinates.\n",
    "\n",
    "### Extension to the TSP\n",
    "The Mapzen optimize route service takes a set of points and finds the optimal route that a person should take to visit all of these points. However, what if we have multiple \"salesmen\"? How should the stops be split up between people and in what order should each person visit their stops?\n",
    "\n",
    "The idea for this was spurred by a project I'm involved with at work, in which we are sending out multiple research assistants to conduct surveys at a dozen or so different sites in Oakland. In this case, it doesn't matter if one person conducts more surveys than other or who goes to which site - the goal is just to minimize the total time to get them all done. \n",
    "\n",
    "Perhaps a more interesting and relevant application (for me!), is the optimization of Sunday morning errands between my girlfriend, Celeste, and I. Say we're both starting and ending at our apartment in the Inner Richmond, SF and have 6 different places that we need to stop at. How should Celeste and I split up these errands so that we're done as quickly as possible? \n",
    "\n",
    "In the post below, I write a set of functions in Python that wrap these two Mapzen services to help me answer these questions. Additionally, I will use the Python package ```folium``` to create leaflet.js slippy maps to display the results of this optimzation problem. Folium has a number of built-in tilesets from OpenStreetMap, MapQuest, MapBox, and makes it really easy to build web maps in Python. Let's get started!"
   ]
  },
  {
   "cell_type": "code",
   "execution_count": 5,
   "metadata": {
    "collapsed": false
   },
   "outputs": [],
   "source": [
    "import requests\n",
    "import pandas as pd\n",
    "import itertools\n",
    "import shapely\n",
    "from shapely.geometry import Point\n",
    "import geopandas as gpd\n",
    "import json\n",
    "import numpy as np\n",
    "import folium\n",
    "from numpy.random import RandomState, uniform\n",
    "import time\n",
    "import sys\n",
    "import os\n",
    "\n",
    "%matplotlib inline\n",
    "search_key=os.getenv('MAPZEN_SEARCH_KEY')\n",
    "matrix_key=os.getenv('MAPZEN_MATRIX_KEY')"
   ]
  },
  {
   "cell_type": "markdown",
   "metadata": {},
   "source": [
    "## Geocoding Locations with Mapzen's Search Tool\n",
    "I first write a function that wraps Mapzen's Search tool in order to geocode (obtain the lat / long coordinates for) an address, landmark, or business. The function returns a dictionary containg the raw result output from Mapzen (includes stuff such as data source, geocoding confidence, neighborhood data, etc), as well as the crucial piece of information for me - a formatted set of xy coordinates. By default I return only 1 result (the top result), but if I were to use this tool for a different context, I would perhaps be interested in returning a set of results. Below I use this function to geocode two famous San Francisco landmarks - the Transamerica Pyramid and Sutro Tower."
   ]
  },
  {
   "cell_type": "code",
   "execution_count": 7,
   "metadata": {
    "collapsed": true
   },
   "outputs": [],
   "source": [
    "def geocode_address_venue(text, key = search_key,params = None): #allow for additional Mapzen search parameters\n",
    "    search_parameters = {'api_key': key,'text': text,'size': 1,'layers': 'address,venue'}\n",
    "    if params:\n",
    "        search_parameters.update(params)\n",
    "    url = 'http://search.mapzen.com/v1/search'\n",
    "    r = requests.get(url, params = search_parameters)\n",
    "    data = r.json()\n",
    "    return {'raw': data,'coords': tuple(data['features'][0]['geometry']['coordinates'])}"
   ]
  },
  {
   "cell_type": "code",
   "execution_count": 8,
   "metadata": {
    "collapsed": false
   },
   "outputs": [
    {
     "name": "stdout",
     "output_type": "stream",
     "text": [
      "(-122.40303, 37.79465)\n",
      "(-122.45285, 37.755246)\n"
     ]
    }
   ],
   "source": [
    "transamerica = geocode_address_venue('Transamerica Pyramid, San Francisco, CA')['coords']\n",
    "sutro = geocode_address_venue('Sutro Tower, San Francisco, CA')['coords']\n",
    "print transamerica\n",
    "print sutro"
   ]
  },
  {
   "cell_type": "markdown",
   "metadata": {},
   "source": [
    "## Displaying Points on Leaflet Maps\n",
    "Now let's put these points on a map. I write a plotting function below that takes a list of coordinates and displays them on a Leaflet map. By default I use the Stamen Watercolor tiles because I think they look really cool, but if something like OpenStreetMap is more useful, that can also be specfied. The full set of available tile layers can be found [here](https://github.com/python-visualization/folium). The function also takes an optional set of colors and point labels, a zoom-level, and a center location. My function calculates default values if not specified. \n",
    "\n",
    "The function is written in a way that it accepts either a list of point coordinates, or a list of lists of point coordinates. If the latter is specified, each sublist is treated as a group of coordinates and will be symbolized in the same color. The function was ultimately written this way to make it easy to distinguish locations that each \"salesman\" will visit in the optimization problem coming later. Additionally, I allow for the specification of polyline coordinates, which will ultimately be used to plot an optimized route between the points.\n",
    "\n",
    "Below I map my two previously geocoded San Francisco landmarks along with the straight line that connects them, on Stamen Toner tiles. Note that on the 'live' map if you click on the points you will see that they are labeled appropriately."
   ]
  },
  {
   "cell_type": "code",
   "execution_count": 9,
   "metadata": {
    "collapsed": false
   },
   "outputs": [],
   "source": [
    "def plot_stops(point_coords, zoom_level = 15,tiles = 'Stamen Watercolor', point_colors = None, \n",
    "               labels = None, center_location = None, line_coords = None, line_colors = None):\n",
    "   \n",
    "    #if not a list of lists, make it one, which then allows the function to handle either\n",
    "    point_coords = [[x] for x in point_coords] if all([type(x) is not list for x in point_coords]) else point_coords\n",
    "    if labels:\n",
    "        labels = [[x] for x in labels] if all([type(x) is not list for x in labels]) else labels\n",
    "    if line_coords:\n",
    "        line_coords = [line_coords] if all([type(t) is tuple for t in line_coords]) else line_coords\n",
    "    \n",
    "    if line_colors:\n",
    "        line_colors = [line_colors] if type(line_colors) is not list else line_colors\n",
    "\n",
    "    #get all points as the flattened list to calculate the center\n",
    "    all_points = [item for sublist in point_coords for item in sublist]\n",
    "    #calculate start location as the mean x and mean y of all input points\n",
    "    if center_location:\n",
    "        center_location = [center_location[1],center_location[0]]\n",
    "    else:\n",
    "        center_location = np.array(all_points).mean(0).tolist()[::-1]\n",
    "    \n",
    "    #create a leaflet map, specifying center location, zoom level, and tiles\n",
    "    map_1 = folium.Map(location = center_location,zoom_start = zoom_level,tiles = tiles)\n",
    "    \n",
    "    #specify a set of default colors\n",
    "    color_options = ['black', 'blue', 'red', 'green', 'purple', 'orange', 'pink', 'white']\n",
    "    \n",
    "    #if no point colors specified use the default\n",
    "    point_colors = point_colors if point_colors else color_options[:len(point_coords)]\n",
    "    \n",
    "    #if plotting lines as well, get line colors, otherwise use default\n",
    "    if line_coords:\n",
    "        line_colors = line_colors if line_colors else color_options[1:][:len(line_coords)]\n",
    "\n",
    "    #loop through each point or grouping of points\n",
    "    for c, point_coords in enumerate(point_coords):\n",
    "        point_color = point_colors[c] #get color from color list\n",
    "\n",
    "        if labels: sublabel_list = labels[c] #get labels from label list\n",
    "        for i, stop_coord in enumerate(point_coords): \n",
    "            label = sublabel_list[i] if labels else None\n",
    "            #Add point to map at specified coordinate \n",
    "            folium.Marker([stop_coord[1], stop_coord[0]], popup = label, #need to reverse long/lat to lat/long\n",
    "                           icon = folium.Icon(color = point_color,icon='mapmarker')).add_to(map_1)\n",
    "    \n",
    "    #if plotting lines, loop through each set of lines and plot\n",
    "    if line_coords:\n",
    "        for i, pline in enumerate(line_coords):\n",
    "            line_color = line_colors[i]\n",
    "            folium.PolyLine([(y,x) for (x,y) in pline], color = line_color).add_to(map_1) #need to reverse long/lat to lat/long\n",
    "    return map_1"
   ]
  },
  {
   "cell_type": "code",
   "execution_count": 10,
   "metadata": {
    "collapsed": false
   },
   "outputs": [
    {
     "data": {
      "text/html": [
       "<div style=\"width:100%;\"><div style=\"position:relative;width:100%;height:0;padding-bottom:60%;\"><iframe src=\"data:text/html;base64,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\" style=\"position:absolute;width:100%;height:100%;left:0;top:0;\"></iframe></div></div>"
      ],
      "text/plain": [
       "<folium.folium.Map at 0x11123f98>"
      ]
     },
     "execution_count": 10,
     "metadata": {},
     "output_type": "execute_result"
    }
   ],
   "source": [
    "sf_landmarks = plot_stops([transamerica, sutro], labels = ['Transamerica Pyramid','Sutro Tower'], \n",
    "            zoom_level = 13, tiles = 'Stamen Toner', point_colors = ['red','blue'],\n",
    "            line_coords = [transamerica, sutro], line_colors = 'purple')\n",
    "sf_landmarks"
   ]
  },
  {
   "cell_type": "markdown",
   "metadata": {},
   "source": [
    "I also demonstrate how a list of list of points can be passed to my plotting function, resulting in each set of points getting symbolized in a different color. I write a function that generates random points within a polygon, and use that to generate 6 lists of 5 points located in San Francisco (boundaries read in from a geosjon). I plot them below. Here the point are labeled by there group number (1-6) and their point number within their group (1-5)."
   ]
  },
  {
   "cell_type": "code",
   "execution_count": 11,
   "metadata": {
    "collapsed": true
   },
   "outputs": [],
   "source": [
    "def gen_random_points(poly, n, random_seed = None):\n",
    "    xmin, ymin, xmax, ymax = poly.bounds\n",
    "    Points = []\n",
    "    i = 0\n",
    "    while len(Points) <= n:\n",
    "        if random_seed:\n",
    "            x, y = RandomState(random_seed + i).uniform(xmin, xmax), RandomState(random_seed + i + 1).uniform(ymin, ymax)\n",
    "        else:\n",
    "            x, y = uniform(xmin, xmax),uniform(ymin, ymax)\n",
    "        if Point(x, y).within(poly):\n",
    "            Points.append((x, y))\n",
    "        i += 1\n",
    "    return Points"
   ]
  },
  {
   "cell_type": "code",
   "execution_count": 12,
   "metadata": {
    "collapsed": false
   },
   "outputs": [
    {
     "data": {
      "text/html": [
       "<div style=\"width:100%;\"><div style=\"position:relative;width:100%;height:0;padding-bottom:60%;\"><iframe src=\"data:text/html;base64,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\" style=\"position:absolute;width:100%;height:100%;left:0;top:0;\"></iframe></div></div>"
      ],
      "text/plain": [
       "<folium.folium.Map at 0x110ecac8>"
      ]
     },
     "execution_count": 12,
     "metadata": {},
     "output_type": "execute_result"
    }
   ],
   "source": [
    "SF = gpd.read_file('SF.geojson').iloc[0]['geometry']\n",
    "rand_points = [gen_random_points(SF, n = 5) for t in range(6)]\n",
    "labels = [[str((t, i)) for i, x in enumerate(l, 1)] for t, l in enumerate(rand_points, 1)]\n",
    "\n",
    "sf_rand_points = plot_stops(rand_points, zoom_level = 12, tiles = 'OpenStreetMap', labels = labels)\n",
    "sf_rand_points"
   ]
  },
  {
   "cell_type": "markdown",
   "metadata": {},
   "source": [
    "## Determining Stop Order using Mapzen's Optimize Route Service \n",
    "Now that I have tools to geocode and visualize points, I'm ready write a function that uses the optimize route tool to determine the an optimal order in which one person should visit a set of points. Later on, I will build off of this function to optimize stops for multiple people, but this is an initial building-block.\n",
    "\n",
    "My function is written in a way that the start and end location are assumed to be the same, although this could easily be tweaked. The function takes a \"home\" location, a set of stops, and calculates the quickest route to go from home, to each of these stops, and back. It returns a dictionary of the raw output, as well as the pieces of information that are most relevant for my purposes - trip length, trip distance, optimized stop order, stop coordinates, and route coordinates.\n",
    "\n",
    "Note that Mapzen uses the [Google Maps encoded polyline format](https://developers.google.com/maps/documentation/utilities/polylinealgorithm) to store a series of latitude, longitude coordinates as a single string (this is done to reduce the size of the route). However, for my purposes, I need the string decoded into a list of lat/long coordinates. Mapzen provides [code](https://mapzen.com/documentation/mobility/decoding/) that can be used to decode the string, which I use below.\n",
    "\n",
    "My function then wraps the geocoding function I wrote above, so that the user can specify any combination of addresses, venues, and coordinates (if coordinates are specified they are not passed to the geocoding function).  It defaults to pedestrian mode of transportation, but can also optimize driving and biking routes.\n",
    "\n",
    "I also allow the user to specify a set of stop labels, which will be returned as the ordered list of stops. Otherwise, the function defaults to the raw input that was passed to the function."
   ]
  },
  {
   "cell_type": "code",
   "execution_count": 13,
   "metadata": {
    "collapsed": false
   },
   "outputs": [],
   "source": [
    "#Decoding function used to extract lat/long coordinates from google maps encoded polylines\n",
    "#https://mapzen.com/documentation/mobility/decoding/\n",
    "\n",
    "#six degrees of precision in valhalla\n",
    "inv = 1.0 / 1e6;\n",
    "#decode an encoded string\n",
    "def decode(encoded):\n",
    "    decoded = []\n",
    "    previous = [0,0]\n",
    "    i = 0\n",
    "    #for each byte\n",
    "    while i < len(encoded):\n",
    "        #for each coord (lat, lon)\n",
    "        ll = [0, 0]\n",
    "        for j in [0, 1]:\n",
    "            shift = 0\n",
    "            byte = 0x20\n",
    "            #keep decoding bytes until you have this coord\n",
    "            while byte >=  0x20:\n",
    "                byte = ord(encoded[i]) - 63\n",
    "                i +=  1\n",
    "                ll[j] |=  (byte & 0x1f) << shift\n",
    "                shift +=  5\n",
    "            #get the final value adding the previous offset and remember it for the next\n",
    "            ll[j] = previous[j] + (~(ll[j] >> 1) if ll[j] & 1 else (ll[j] >> 1))\n",
    "            previous[j] = ll[j]\n",
    "            #scale by the precision and chop off long coords also flip the positions so\n",
    "            #its the far more standard lon,lat instead of lat,lon\n",
    "        decoded.append([float('%.6f' % (ll[1] * inv)), float('%.6f' % (ll[0] * inv))])\n",
    "    #hand back the list of coordinates\n",
    "    return decoded"
   ]
  },
  {
   "cell_type": "code",
   "execution_count": 25,
   "metadata": {
    "collapsed": true
   },
   "outputs": [],
   "source": [
    "def optimize_stops(home, stops, costing = 'pedestrian', api_key = matrix_key, home_label = 'Home',\n",
    "                  stop_labels = None):\n",
    "    \n",
    "    #geocode home and stops if not a coordinate\n",
    "    home = home if type(home) is tuple else geocode_address_venue(home)\n",
    "    stops = [geocode_address_venue(stop)['coords'] if type(stop) is not tuple else stop for stop in stops]\n",
    "    \n",
    "    #full set of points are list of points that start and end with the home location\n",
    "    points = [home] + stops + [home]\n",
    "    \n",
    "    #round_points to 5 decimal points\n",
    "    points=[(round(x,5),round(y,5)) for (x,y) in points]\n",
    "    \n",
    "    #define point labels\n",
    "    names = [home_label] + (stop_labels if stop_labels else stops) + [home_label]\n",
    "    \n",
    "    #set up parameters to pass to mapzen function\n",
    "    js = {'locations':[{'lon': point[0], 'lat': point[1]} for point in points], 'costing': costing}\n",
    "    params = {'json': json.dumps(js), 'api_key': api_key}\n",
    "    url = 'https://matrix.mapzen.com/optimized_route'\n",
    "    r = requests.get(url, params = params)\n",
    "    raw = r.json()\n",
    "    \n",
    "    #get the coordinates of the stops in their new optimized order\n",
    "    locs = raw['trip']['locations']\n",
    "    new_point_order = [(locs[loc]['lon'], locs[loc]['lat']) for loc in range(len(locs))]\n",
    "    \n",
    "    #round to 5 decimal points\n",
    "    new_point_order=[(round(x,5),round(y,5)) for (x,y) in new_point_order]\n",
    "\n",
    "    point_order = [points.index(x) for x in new_point_order]\n",
    "    name_order = [names[i] for i in point_order]\n",
    "    \n",
    "    #Extract the path shape for each of the legs, decode them, and then combine into one polyline\n",
    "    raw_path = [raw['trip']['legs'][x]['shape'] for x in range(len(raw['trip']['legs']))]\n",
    "    decode_paths = [tuple(item) for sublist in [decode(z) for z in raw_path] for item in sublist]\n",
    "    \n",
    "    #return a dictionary that contains raw mapzen output, trip time, trip distance, new ordered points, \n",
    "    #new ordered point names, and a decoded path\n",
    "    return {'raw': raw, \n",
    "    'time': raw['trip']['summary']['time']/60,\n",
    "    'length': raw['trip']['summary']['length'], \n",
    "    'points': new_point_order,\n",
    "    'original_points':points,\n",
    "    'order': name_order,\n",
    "    'line': decode_paths}\n",
    "    return point_order"
   ]
  },
  {
   "cell_type": "markdown",
   "metadata": {},
   "source": [
    "Below, I set up the parameters that I will pass to the optimize route function. I specify a list of 6 stops in my neighborhood that Celeste and I will need to visit as part of our Sunday morning errands (note that I use a combination of business names, addresses, and coordinates). I also specify the set of names that correspond to these stops, that will be used just to make the labeling easier. As much as I wish it were the case, our Sunday errands generally do not involve ice cream, pizza, bagels, and art museums. Nonetheless, for this example I've included my favorite desinations of these types as stops that we need to make.\n",
    "\n",
    "Lastly, I specify our approximate home coordinates that we will be routing to and from."
   ]
  },
  {
   "cell_type": "code",
   "execution_count": 15,
   "metadata": {
    "collapsed": false
   },
   "outputs": [],
   "source": [
    "stops = ['Toy Boat Dessert Cafe, San Francisco, CA',\n",
    "       'Pizzetta 211, San Francisco, CA', \n",
    "       'Arguello Super Market, San Francisco, CA',\n",
    "       '4700 Geary Blvd, San Francisco, CA',\n",
    "       (-122.465613, 37.770016),\n",
    "       '3519 California St, San Francisco, CA 94118']\n",
    "\n",
    "stop_labels = ['Toy Boat',\n",
    "             'Pizzetta',\n",
    "             'Arguello Market',\n",
    "             'Lamps Plus',\n",
    "             'de Young Museum',\n",
    "             \"Noah's Bagels\"]\n",
    "\n",
    "home = (-122.464186, 37.779111)"
   ]
  },
  {
   "cell_type": "markdown",
   "metadata": {},
   "source": [
    "I then apply this function to my set of stops and return the optimized stop order, the route time, and the route distance. I first optimize the route as a pedestrian and then as a bicyclist. As you can see, the stop order is slightly different for these two modes of transit, likely keeping the bike route on roads / paths that are better for biking."
   ]
  },
  {
   "cell_type": "code",
   "execution_count": 27,
   "metadata": {
    "collapsed": false
   },
   "outputs": [
    {
     "name": "stdout",
     "output_type": "stream",
     "text": [
      "['Home', 'Lamps Plus', 'Pizzetta', 'Toy Boat', \"Noah's Bagels\", 'Arguello Market', 'de Young Museum', 'Home']\n",
      "113 minutes\n",
      "9.359 km\n"
     ]
    }
   ],
   "source": [
    "walk_opt = optimize_stops(home, stops, stop_labels = stop_labels)\n",
    "print walk_opt['order']\n",
    "print str(walk_opt['time']) + ' minutes'\n",
    "print str(walk_opt['length']) + ' km'"
   ]
  },
  {
   "cell_type": "code",
   "execution_count": 28,
   "metadata": {
    "collapsed": false
   },
   "outputs": [
    {
     "name": "stdout",
     "output_type": "stream",
     "text": [
      "['Home', 'Pizzetta', 'Lamps Plus', 'Toy Boat', \"Noah's Bagels\", 'Arguello Market', 'de Young Museum', 'Home']\n",
      "29 minutes\n",
      "11.081 km\n"
     ]
    }
   ],
   "source": [
    "bike_opt = optimize_stops(home, stops, stop_labels = stop_labels,costing = 'bicycle')\n",
    "print bike_opt['order']\n",
    "print str(bike_opt['time']) + ' minutes'\n",
    "print str(bike_opt['length']) + ' km'"
   ]
  },
  {
   "cell_type": "markdown",
   "metadata": {},
   "source": [
    "## Determining Stops and Order with Multiple People"
   ]
  },
  {
   "cell_type": "markdown",
   "metadata": {},
   "source": [
    "Now that I have a working function that wraps Mapzen's optimize route service, I am ready to extend it work with multiple people. The general approach is to first find the unique combinations that a list of stops can be split among a given number of people, and then determine in which of these combinations minimizes the maximum time of any 1 person. \n",
    "\n",
    "### Unique ways that stops can be split\n",
    "I use a function adapted from [here](http://stackoverflow.com/a/39199937/3776938) to find the unique ways in that a list of N elements can be partitioned into K groups. This function is written so that the order of groups or of elements within a group does not matter. By this I mean that ```[['A','B'],['C','D']]``` is considered identical to ```[['C','D'],['A','B']]``` as well as to ```[['B','A'],['C','D']]```."
   ]
  },
  {
   "cell_type": "code",
   "execution_count": null,
   "metadata": {
    "collapsed": false
   },
   "outputs": [],
   "source": [
    "def sorted_k_partitions(seq, k):\n",
    "    n = len(seq)\n",
    "    working_partition = []\n",
    "\n",
    "    def generate_partitions(i):\n",
    "        if i >=  n:\n",
    "            yield list(map(tuple, working_partition))\n",
    "        else:\n",
    "            if n - i > k - len(working_partition):\n",
    "                for part in working_partition:\n",
    "                    part.append(seq[i])\n",
    "                    for bar in generate_partitions(i + 1):\n",
    "                        yield bar\n",
    "                    part.pop()\n",
    "\n",
    "            if len(working_partition) < k:\n",
    "                working_partition.append([seq[i]])\n",
    "                for bar in generate_partitions(i + 1):\n",
    "                    yield bar\n",
    "                working_partition.pop()\n",
    "\n",
    "    result = generate_partitions(0)\n",
    "\n",
    "    # Sort the parts in each partition in shortlex order and then by the length of each part, \n",
    "    #and then lexicographically\n",
    "    result = [sorted(ps, key = lambda p: (len(p), p)) for ps in result]\n",
    "    result = sorted(result, key = lambda ps: (map(len, ps), ps))\n",
    "    return result"
   ]
  },
  {
   "cell_type": "markdown",
   "metadata": {},
   "source": [
    "I demonstrate an application of the function below, showing the 7 unique ways that 4 stops can be split among 2 people."
   ]
  },
  {
   "cell_type": "code",
   "execution_count": null,
   "metadata": {
    "collapsed": false
   },
   "outputs": [],
   "source": [
    "for c in sorted_k_partitions(['A', 'B', 'C', 'D'], 2):\n",
    "    print c"
   ]
  },
  {
   "cell_type": "markdown",
   "metadata": {},
   "source": [
    "More generally, I build a matrix that shows the number of combinations and number of optimize stop requests that need to be made based on the number of stops and the number of salesman. The first number is the number of unique combinations and the 2nd is the number of requests (which is just the number of combinations multiplied by the number of salesmen). "
   ]
  },
  {
   "cell_type": "code",
   "execution_count": null,
   "metadata": {
    "collapsed": false
   },
   "outputs": [],
   "source": [
    "num_test=6\n",
    "nk_matrix=pd.DataFrame(index=range(1,num_test+1),columns=pd.MultiIndex.from_product([range(1,num_test+1),['C','R']]))\n",
    "\n",
    "for n in range(1,num_test+1):\n",
    "    for k in range(1,num_test+1):\n",
    "        combos=sorted_k_partitions(range(1,k+1),n)\n",
    "        nk_matrix.loc[n,(k,'C')]=len(combos)\n",
    "        nk_matrix.loc[n,(k,'R')]=len([item for sublist in combos for item in sublist])\n",
    "\n",
    "nk_matrix.index.name='# of Salesman'\n",
    "nk_matrix.columns.names=['# of Stops',None]\n",
    "nk_matrix"
   ]
  },
  {
   "cell_type": "markdown",
   "metadata": {},
   "source": [
    "### Optimizing Stops Among K People\n",
    "I then write a function that wraps my single-person route optimization function. The function applies the original function to each unique way that the stops can be partitioned, and determines the the partition that minimizes the maximum time of the travelers. The input is identical to the original function except for the ```num_travelers``` parameter. If ```num_travelers``` is set to 1, the result will be identical between the two functions.\n",
    "\n",
    "The output too is nearly identical to the previous function - a dictionary containing stop order, stop points, and trip time. However, now the function returns a list of these values, where the length of the list is equal to the number of travelers."
   ]
  },
  {
   "cell_type": "code",
   "execution_count": null,
   "metadata": {
    "collapsed": true
   },
   "outputs": [],
   "source": [
    "def optimize_stops_mult(home, stops, num_travelers, costing = 'pedestrian', api_key = matrix_key, home_label = 'Home',\n",
    "                  stop_labels = None):\n",
    "    #get all possible options in which the stops can be broken up between the specified number of travelers\n",
    "    options = sorted_k_partitions(stops, num_travelers)\n",
    "    #create lists to store sublists of the time, name order, and point order for each option and traveler\n",
    "    all_times = []\n",
    "    all_orders = []\n",
    "    all_points = []\n",
    "    all_lines = []\n",
    "    for option in options: #loop through each possible way to split the stops\n",
    "        #create lists to store the time, name order, and point order for each traveler\n",
    "        option_times = [] \n",
    "        option_orders = []\n",
    "        option_points = []\n",
    "        option_lines = []\n",
    "        #calculate the optimal stop order for each traveler with each set of stop options\n",
    "        #using the previously defined function\n",
    "        #append relevant information to lists\n",
    "        for traveler in option:\n",
    "            sub_labels = [stop_labels[stops.index(x)] for x in traveler] if stop_labels else None\n",
    "\n",
    "            result = optimize_stops(home = home, stops = list(traveler), costing = costing, api_key = api_key,\n",
    "                                  home_label = home_label, stop_labels = sub_labels)\n",
    "            option_times.append(result['time'])\n",
    "            option_orders.append(result['order'])\n",
    "            option_points.append(result['points'])\n",
    "            option_lines.append(result['line'])\n",
    "\n",
    "        all_times.append(option_times)\n",
    "        all_orders.append(option_orders)\n",
    "        all_points.append(option_points)\n",
    "        all_lines.append(option_lines)\n",
    "\n",
    "    #get the index of the option that minimizes the max of any time that a traveler takes\n",
    "    minloc = np.argmin([max(time) for time in all_times])\n",
    "    \n",
    "    #return a dictionary of the stop order, points, and time for the optimized options\n",
    "    opt_order = [x[1: -1] for x in all_orders[minloc]]\n",
    "    opt_times = all_times[minloc]\n",
    "    opt_points = [x[1: -1] for x in all_points[minloc]]\n",
    "    home_point = [x[0] for x in all_points[minloc]][0]\n",
    "    polylines = all_lines[minloc]\n",
    "    return {'order': opt_order, 'time': opt_times, 'points': opt_points, 'home_point': home_point, 'lines':polylines}\n"
   ]
  },
  {
   "cell_type": "markdown",
   "metadata": {},
   "source": [
    "I use the same set of 6 stops in the Inner Richmond, but now specify that there will be two travelers. I extract the ordered set of stops for each of the two travelers, the time (in minutes) that each person's trip will take, and then plot the stops as well as the routes on a map.\n",
    "\n",
    "As you can see, when I extract the stop order from the dictionary I get a list of two ordered sublists. This indicates that the first person should go to Pizzetta and Lamps Plus and the second person should go to Toy Boat, Noah's Bagels, Arguello, Market, and the de Young Museum (in that order). It may seem unfair that one person has to do 4 stops and the other only 2, but as you can see on the map, Pizzetta is much further away from home than the others. The person that makes the two stop trip will spend 53 minutes and the person that makes the four stop trip will spend 68 minutes. 68 minutes is the minimum amount of time that the person with the longer trip takes in any combination ways that these can be partitioned. \n",
    "\n",
    "In the map, the home location is shown in black, and each person's stops are shown in a different color. Stops are labeled with the stop name as well as the stop number (showing the order that the stops should be visited by each person)."
   ]
  },
  {
   "cell_type": "code",
   "execution_count": null,
   "metadata": {
    "collapsed": false
   },
   "outputs": [],
   "source": [
    "opt_2_people = optimize_stops_mult(home, stops, num_travelers = 2, stop_labels = stop_labels)"
   ]
  },
  {
   "cell_type": "code",
   "execution_count": null,
   "metadata": {
    "collapsed": false
   },
   "outputs": [],
   "source": [
    "for i in opt_2_people['order']:\n",
    "    print i"
   ]
  },
  {
   "cell_type": "code",
   "execution_count": null,
   "metadata": {
    "collapsed": false
   },
   "outputs": [],
   "source": [
    "opt_2_people['time']"
   ]
  },
  {
   "cell_type": "code",
   "execution_count": null,
   "metadata": {
    "collapsed": false
   },
   "outputs": [],
   "source": [
    "points = [[opt_2_people['home_point']]] + opt_2_people['points']\n",
    "labels = [['Home']] + [[' - '.join((str(i), x)) for i, x in enumerate(l, 1)] for l in opt_2_people['order']]\n",
    "\n",
    "\n",
    "m1 = plot_stops(points, zoom_level = 14, tiles = 'Stamen Watercolor', labels = labels, line_coords = opt_2_people['lines'])\n",
    "m1"
   ]
  },
  {
   "cell_type": "markdown",
   "metadata": {},
   "source": [
    "I also run the function on the same set of stops, this time specifying bike transportation. As you can see the routes are slightly different, favoring roads that are better for biking. The times are also much shorter (12 and 18 minutes vs 53 and 68)."
   ]
  },
  {
   "cell_type": "code",
   "execution_count": null,
   "metadata": {
    "collapsed": false
   },
   "outputs": [],
   "source": [
    "opt_2_people_bike = optimize_stops_mult(home, stops, num_travelers = 2, stop_labels = stop_labels, costing = 'bicycle')\n",
    "print opt_2_people_bike['time']"
   ]
  },
  {
   "cell_type": "code",
   "execution_count": null,
   "metadata": {
    "collapsed": false
   },
   "outputs": [],
   "source": [
    "points = [[opt_2_people_bike['home_point']]] + opt_2_people_bike['points']\n",
    "labels = [['Home']]+[[' - '.join((str(i), x)) for i, x in enumerate(l, 1)] for l in opt_2_people_bike['order']]\n",
    "\n",
    "m2 = plot_stops(points, zoom_level = 14, tiles = 'Stamen Watercolor', labels = labels, line_coords = opt_2_people_bike['lines'])\n",
    "m2"
   ]
  },
  {
   "cell_type": "markdown",
   "metadata": {},
   "source": [
    "Now let's say that Celeste and I have a friend who's willing to help us with our errands. I run the optimization function again, now specifying 3 travelers. The results from this indicated that one person should go to Pizzetta, one person should go to Toy Boat and Noah's Bagels, and one person should go to Lamp's Plus, the de Young, and Arguello Market. In this case, the person with the fewest amount of stops has the longest travel time (52 minutes), and the full set of errands will be made 15 minutes faster than it was with only 2 people."
   ]
  },
  {
   "cell_type": "code",
   "execution_count": null,
   "metadata": {
    "collapsed": false
   },
   "outputs": [],
   "source": [
    "opt_3_people = optimize_stops_mult(home, stops, 3, stop_labels = stop_labels)"
   ]
  },
  {
   "cell_type": "code",
   "execution_count": null,
   "metadata": {
    "collapsed": false
   },
   "outputs": [],
   "source": [
    "for i in opt_3_people['order']:\n",
    "    print i"
   ]
  },
  {
   "cell_type": "code",
   "execution_count": null,
   "metadata": {
    "collapsed": false
   },
   "outputs": [],
   "source": [
    "opt_3_people['time']"
   ]
  },
  {
   "cell_type": "code",
   "execution_count": null,
   "metadata": {
    "collapsed": false
   },
   "outputs": [],
   "source": [
    "points = [[opt_3_people['home_point']]] + opt_3_people['points']\n",
    "labels = [['Home']] + [[' - '.join((str(i), x)) for i, x in enumerate(l, 1)] for l in opt_3_people['order']]\n",
    "\n",
    "m3 = plot_stops(points, zoom_level = 14, tiles = 'Stamen Watercolor', labels = labels,line_coords = opt_3_people['lines'])\n",
    "m3"
   ]
  },
  {
   "cell_type": "code",
   "execution_count": null,
   "metadata": {
    "collapsed": false
   },
   "outputs": [],
   "source": [
    "#sf_landmarks.save('sutro_transamerica.html')\n",
    "#sf_rand_points.save('sf_random_points.html')\n",
    "#m1.save('optimize_stops_2_people_walk.html')\n",
    "#m2.save('optimize_stops_2_people_bike.html')\n",
    "#m3.save('optimize_stops_3_people_walk.html')\n"
   ]
  },
  {
   "cell_type": "code",
   "execution_count": null,
   "metadata": {
    "collapsed": true
   },
   "outputs": [],
   "source": []
  }
 ],
 "metadata": {
  "kernelspec": {
   "display_name": "Python 2",
   "language": "python",
   "name": "python2"
  },
  "language_info": {
   "codemirror_mode": {
    "name": "ipython",
    "version": 2
   },
   "file_extension": ".py",
   "mimetype": "text/x-python",
   "name": "python",
   "nbconvert_exporter": "python",
   "pygments_lexer": "ipython2",
   "version": "2.7.10"
  }
 },
 "nbformat": 4,
 "nbformat_minor": 0
}
