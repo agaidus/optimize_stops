{
 "cells": [
  {
   "cell_type": "markdown",
   "metadata": {},
   "source": [
    "## Introduction\n",
    "\n",
    "### Traveling Salesman Problem\n",
    "The traveling salesman problem is a classic optimization problem that seeks to find the most efficient route that connects a given set of points. I recently discovered a set of services built by the open-source mapping company, Mapzen, that make this complex problem easy to approximate for relatively small numbers of stops. Given a set of coordinates, the Mapzen [optimize route](https://mapzen.com/documentation/mobility/optimized/api-reference/) service uses road network data to produce a time-distance matrix betweent these points, and then calculates the route that minimizes the total travel time. This can be done for one of three modes of transportaion - pedestrian, bicycle, and car. They have a great [example](https://mapzen.com/blog/optimized-route/) with a cool map where they determine the optimal route to visit burrito 'dispensaries' in San Franscico.\n",
    "\n",
    "I use this root optimization tool in conjunction Mapzen's [Search](https://mapzen.com/documentation/search/) Service, which uses open source data to geocode addresses, landmarks, and businesses. Using these two services together is really handy, because it allows the user to specify locations without knowing their lat / long coordinates.\n",
    "\n",
    "### Extension to the TSP\n",
    "The Mapzen optimize route service takes a set of points and finds the optimal route that a person should take to visit all of these points. However, what if we have multiple \"salesmen\"? How should the stops be split up between people and in what order should each person visit their stops?\n",
    "\n",
    "The idea for this was spurred by a project I'm involved with at work, in which we are sending out multiple research assistants to conduct surveys at a dozen or so different sites in Oakland. In this case, it doesn't matter if one person conducts more surveys than other or who goes to which site - the goal is just to minimize the total time to get them all done. \n",
    "\n",
    "Perhaps a more interesting and relevant application (for me!), is the optimization of Sunday morning errands between my girlfriend, Celeste, and I. Say we're both starting and ending at our apartment in the Inner Richmond, SF and have 6 different places that we need to stop at. How should Celeste and I split up these errands so that we're done as quickly as possible? \n",
    "\n",
    "In the post below, I write a set of functions in Python that wrap these two Mapzen services to help me answer these questions. Additionally, I will use the Python package ```folium``` to create leaflet.js slippy maps to display the results of this optimzation problem. Folium has a number of built-in tilesets from OpenStreetMap, MapQuest, MapBox, and makes it really easy to build web maps in Python. Let's get started!"
   ]
  },
  {
   "cell_type": "code",
   "execution_count": 6,
   "metadata": {
    "collapsed": false
   },
   "outputs": [],
   "source": [
    "import requests\n",
    "import pandas as pd\n",
    "import itertools\n",
    "import shapely\n",
    "from shapely.geometry import Point\n",
    "import geopandas as gpd\n",
    "import json\n",
    "import numpy as np\n",
    "import folium\n",
    "from numpy.random import RandomState, uniform\n",
    "import time\n",
    "import sys\n",
    "import os\n",
    "\n",
    "%matplotlib inline\n",
    "search_key='search-WWoh7Na'\n",
    "matrix_key='matrix-gjM8nT3'"
   ]
  },
  {
   "cell_type": "markdown",
   "metadata": {},
   "source": [
    "## Geocoding Locations with Mapzen's Search Tool\n",
    "I first write a function that wraps Mapzen's Search tool in order to geocode (obtain the lat / long coordinates for) an address, landmark, or business. The function returns a dictionary containg the raw result output from Mapzen (includes stuff such as data source, geocoding confidence, neighborhood data, etc), as well as the crucial piece of information for me - a formatted set of xy coordinates. By default I return only 1 result (the top result), but if I were to use this tool for a different context, I would perhaps be interested in returning a set of results. Below I use this function to geocode two famous San Francisco landmarks - the Transamerica Pyramid and Sutro Tower."
   ]
  },
  {
   "cell_type": "code",
   "execution_count": 7,
   "metadata": {
    "collapsed": true
   },
   "outputs": [],
   "source": [
    "def geocode_address_venue(text, key = search_key,params = None): #allow for additional Mapzen search parameters\n",
    "    search_parameters = {'api_key': key,'text': text,'size': 1,'layers': 'address,venue'}\n",
    "    if params:\n",
    "        search_parameters.update(params)\n",
    "    url = 'http://search.mapzen.com/v1/search'\n",
    "    r = requests.get(url, params = search_parameters)\n",
    "    data = r.json()\n",
    "    return {'raw': data,'coords': tuple(data['features'][0]['geometry']['coordinates'])}"
   ]
  },
  {
   "cell_type": "code",
   "execution_count": 8,
   "metadata": {
    "collapsed": false
   },
   "outputs": [
    {
     "name": "stdout",
     "output_type": "stream",
     "text": [
      "(-122.40303, 37.79465)\n",
      "(-122.45285, 37.755246)\n"
     ]
    }
   ],
   "source": [
    "transamerica = geocode_address_venue('Transamerica Pyramid, San Francisco, CA')['coords']\n",
    "sutro = geocode_address_venue('Sutro Tower, San Francisco, CA')['coords']\n",
    "print transamerica\n",
    "print sutro"
   ]
  },
  {
   "cell_type": "markdown",
   "metadata": {},
   "source": [
    "## Displaying Points on Leaflet Maps\n",
    "Now let's put these points on a map. I write a plotting function below that takes a list of coordinates and displays them on a Leaflet map. By default I use the Stamen Watercolor tiles because I think they look really cool, but if something like OpenStreetMap is more useful, that can also be specfied. The full set of available tile layers can be found [here](https://github.com/python-visualization/folium). The function also takes an optional set of colors and point labels, a zoom-level, and a center location. My function calculates default values if not specified. \n",
    "\n",
    "The function is written in a way that it accepts either a list of point coordinates, or a list of lists of point coordinates. If the latter is specified, each sublist is treated as a group of coordinates and will be symbolized in the same color. The function was ultimately written this way to make it easy to distinguish locations that each \"salesman\" will visit in the optimization problem coming later. Additionally, I allow for the specification of polyline coordinates, which will ultimately be used to plot an optimized route between the points.\n",
    "\n",
    "Below I map my two previously geocoded San Francisco landmarks along with the straight line that connects them, on Stamen Toner tiles. Note that on the 'live' map if you click on the points you will see that they are labeled appropriately."
   ]
  },
  {
   "cell_type": "code",
   "execution_count": 9,
   "metadata": {
    "collapsed": false
   },
   "outputs": [],
   "source": [
    "def plot_stops(point_coords, zoom_level = 15,tiles = 'Stamen Watercolor', point_colors = None, \n",
    "               labels = None, center_location = None, line_coords = None, line_colors = None):\n",
    "   \n",
    "    #if not a list of lists, make it one, which then allows the function to handle either\n",
    "    point_coords = [[x] for x in point_coords] if all([type(x) is not list for x in point_coords]) else point_coords\n",
    "    if labels:\n",
    "        labels = [[x] for x in labels] if all([type(x) is not list for x in labels]) else labels\n",
    "    if line_coords:\n",
    "        line_coords = [line_coords] if all([type(t) is tuple for t in line_coords]) else line_coords\n",
    "    \n",
    "    if line_colors:\n",
    "        line_colors = [line_colors] if type(line_colors) is not list else line_colors\n",
    "\n",
    "    #get all points as the flattened list to calculate the center\n",
    "    all_points = [item for sublist in point_coords for item in sublist]\n",
    "    #calculate start location as the mean x and mean y of all input points\n",
    "    if center_location:\n",
    "        center_location = [center_location[1],center_location[0]]\n",
    "    else:\n",
    "        center_location = np.array(all_points).mean(0).tolist()[::-1]\n",
    "    \n",
    "    #create a leaflet map, specifying center location, zoom level, and tiles\n",
    "    map_1 = folium.Map(location = center_location,zoom_start = zoom_level,tiles = tiles)\n",
    "    \n",
    "    #specify a set of default colors\n",
    "    color_options = ['black', 'blue', 'red', 'green', 'purple', 'orange', 'pink', 'white']\n",
    "    \n",
    "    #if no point colors specified use the default\n",
    "    point_colors = point_colors if point_colors else color_options[:len(point_coords)]\n",
    "    \n",
    "    #if plotting lines as well, get line colors, otherwise use default\n",
    "    if line_coords:\n",
    "        line_colors = line_colors if line_colors else color_options[1:][:len(line_coords)]\n",
    "\n",
    "    #loop through each point or grouping of points\n",
    "    for c, point_coords in enumerate(point_coords):\n",
    "        point_color = point_colors[c] #get color from color list\n",
    "\n",
    "        if labels: sublabel_list = labels[c] #get labels from label list\n",
    "        for i, stop_coord in enumerate(point_coords): \n",
    "            label = sublabel_list[i] if labels else None\n",
    "            #Add point to map at specified coordinate \n",
    "            folium.Marker([stop_coord[1], stop_coord[0]], popup = label, #need to reverse long/lat to lat/long\n",
    "                           icon = folium.Icon(color = point_color,icon='mapmarker')).add_to(map_1)\n",
    "    \n",
    "    #if plotting lines, loop through each set of lines and plot\n",
    "    if line_coords:\n",
    "        for i, pline in enumerate(line_coords):\n",
    "            line_color = line_colors[i]\n",
    "            folium.PolyLine([(y,x) for (x,y) in pline], color = line_color).add_to(map_1) #need to reverse long/lat to lat/long\n",
    "    return map_1"
   ]
  },
  {
   "cell_type": "code",
   "execution_count": 10,
   "metadata": {
    "collapsed": false
   },
   "outputs": [
    {
     "data": {
      "text/html": [
       "<div style=\"width:100%;\"><div style=\"position:relative;width:100%;height:0;padding-bottom:60%;\"><iframe src=\"data:text/html;base64,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\" style=\"position:absolute;width:100%;height:100%;left:0;top:0;\"></iframe></div></div>"
      ],
      "text/plain": [
       "<folium.folium.Map at 0xaf4b358>"
      ]
     },
     "execution_count": 10,
     "metadata": {},
     "output_type": "execute_result"
    }
   ],
   "source": [
    "sf_landmarks = plot_stops([transamerica, sutro], labels = ['Transamerica Pyramid','Sutro Tower'], \n",
    "            zoom_level = 13, tiles = 'Stamen Toner', point_colors = ['red','blue'],\n",
    "            line_coords = [transamerica, sutro], line_colors = 'purple')\n",
    "sf_landmarks"
   ]
  },
  {
   "cell_type": "markdown",
   "metadata": {},
   "source": [
    "I also demonstrate how a list of list of points can be passed to my plotting function, resulting in each set of points getting symbolized in a different color. I write a function that generates random points within a polygon, and use that to generate 6 lists of 5 points located in San Francisco (boundaries read in from a geosjon). I plot them below. Here the point are labeled by there group number (1-6) and their point number within their group (1-5)."
   ]
  },
  {
   "cell_type": "code",
   "execution_count": 6,
   "metadata": {
    "collapsed": true
   },
   "outputs": [],
   "source": [
    "def gen_random_points(poly, n, random_seed = None):\n",
    "    xmin, ymin, xmax, ymax = poly.bounds\n",
    "    Points = []\n",
    "    i = 0\n",
    "    while len(Points) <= n:\n",
    "        if random_seed:\n",
    "            x, y = RandomState(random_seed + i).uniform(xmin, xmax), RandomState(random_seed + i + 1).uniform(ymin, ymax)\n",
    "        else:\n",
    "            x, y = uniform(xmin, xmax),uniform(ymin, ymax)\n",
    "        if Point(x, y).within(poly):\n",
    "            Points.append((x, y))\n",
    "        i += 1\n",
    "    return Points"
   ]
  },
  {
   "cell_type": "code",
   "execution_count": 7,
   "metadata": {
    "collapsed": false
   },
   "outputs": [
    {
     "data": {
      "text/html": [
       "<div style=\"width:100%;\"><div style=\"position:relative;width:100%;height:0;padding-bottom:60%;\"><iframe src=\"data:text/html;base64,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\" style=\"position:absolute;width:100%;height:100%;left:0;top:0;\"></iframe></div></div>"
      ],
      "text/plain": [
       "<folium.folium.Map at 0x110e8320>"
      ]
     },
     "execution_count": 7,
     "metadata": {},
     "output_type": "execute_result"
    }
   ],
   "source": [
    "SF = gpd.read_file('SF.geojson').iloc[0]['geometry']\n",
    "rand_points = [gen_random_points(SF, n = 5) for t in range(6)]\n",
    "labels = [[str((t, i)) for i, x in enumerate(l, 1)] for t, l in enumerate(rand_points, 1)]\n",
    "\n",
    "sf_rand_points = plot_stops(rand_points, zoom_level = 12, tiles = 'OpenStreetMap', labels = labels)\n",
    "sf_rand_points"
   ]
  },
  {
   "cell_type": "markdown",
   "metadata": {},
   "source": [
    "## Determining Stop Order using Mapzen's Optimize Route Service \n",
    "Now that I have tools to geocode and visualize points, I'm ready write a function that uses the optimize route tool to determine the an optimal order in which one person should visit a set of points. Later on, I will build off of this function to optimize stops for multiple people, but this is an initial building-block.\n",
    "\n",
    "My function is written in a way that the start and end location are assumed to be the same, although this could easily be tweaked. The function takes a \"home\" location, a set of stops, and calculates the quickest route to go from home, to each of these stops, and back. It returns a dictionary of the raw output, as well as the pieces of information that are most relevant for my purposes - trip length, trip distance, optimized stop order, stop coordinates, and route coordinates.\n",
    "\n",
    "Note that Mapzen uses the [Google Maps encoded polyline format](https://developers.google.com/maps/documentation/utilities/polylinealgorithm) to store a series of latitude, longitude coordinates as a single string (this is done to reduce the size of the route). However, for my purposes, I need the string decoded into a list of lat/long coordinates. Mapzen provides [code](https://mapzen.com/documentation/mobility/decoding/) that can be used to decode the string, which I use below.\n",
    "\n",
    "My function then wraps the geocoding function I wrote above, so that the user can specify any combination of addresses, venues, and coordinates (if coordinates are specified they are not passed to the geocoding function).  It defaults to pedestrian mode of transportation, but can also optimize driving and biking routes.\n",
    "\n",
    "I also allow the user to specify a set of stop labels, which will be returned as the ordered list of stops. Otherwise, the function defaults to the raw input that was passed to the function."
   ]
  },
  {
   "cell_type": "code",
   "execution_count": 12,
   "metadata": {
    "collapsed": false
   },
   "outputs": [],
   "source": [
    "#Decoding function used to extract lat/long coordinates from google maps encoded polylines\n",
    "#https://mapzen.com/documentation/mobility/decoding/\n",
    "\n",
    "#six degrees of precision in valhalla\n",
    "inv = 1.0 / 1e6;\n",
    "#decode an encoded string\n",
    "def decode(encoded):\n",
    "    decoded = []\n",
    "    previous = [0,0]\n",
    "    i = 0\n",
    "    #for each byte\n",
    "    while i < len(encoded):\n",
    "        #for each coord (lat, lon)\n",
    "        ll = [0, 0]\n",
    "        for j in [0, 1]:\n",
    "            shift = 0\n",
    "            byte = 0x20\n",
    "            #keep decoding bytes until you have this coord\n",
    "            while byte >=  0x20:\n",
    "                byte = ord(encoded[i]) - 63\n",
    "                i +=  1\n",
    "                ll[j] |=  (byte & 0x1f) << shift\n",
    "                shift +=  5\n",
    "            #get the final value adding the previous offset and remember it for the next\n",
    "            ll[j] = previous[j] + (~(ll[j] >> 1) if ll[j] & 1 else (ll[j] >> 1))\n",
    "            previous[j] = ll[j]\n",
    "            #scale by the precision and chop off long coords also flip the positions so\n",
    "            #its the far more standard lon,lat instead of lat,lon\n",
    "        decoded.append([float('%.6f' % (ll[1] * inv)), float('%.6f' % (ll[0] * inv))])\n",
    "    #hand back the list of coordinates\n",
    "    return decoded"
   ]
  },
  {
   "cell_type": "code",
   "execution_count": 21,
   "metadata": {
    "collapsed": false
   },
   "outputs": [],
   "source": [
    "def optimize_stops(home, stops, costing = 'pedestrian', api_key = matrix_key, home_label = 'Home',\n",
    "                  stop_labels = None):\n",
    "    \n",
    "    #geocode home and stops if not a coordinate\n",
    "    home = home if type(home) is tuple else geocode_address_venue(home)\n",
    "    stops = [geocode_address_venue(stop)['coords'] if type(stop) is not tuple else stop for stop in stops]\n",
    "    \n",
    "    #full set of points are list of points that start and end with the home location\n",
    "    points = [home] + stops + [home]\n",
    "    \n",
    "    #define point labels\n",
    "    names = [home_label] + (stop_labels if stop_labels else stops) + [home_label]\n",
    "    \n",
    "    #set up parameters to pass to mapzen function\n",
    "    js = {'locations':[{'lon': point[0], 'lat': point[1]} for point in points], 'costing': costing}\n",
    "    params = {'json': json.dumps(js), 'api_key': api_key}\n",
    "    url = 'https://matrix.mapzen.com/optimized_route'\n",
    "    r = requests.get(url, params = params)\n",
    "    raw = r.json()\n",
    "    \n",
    "    #get the coordinates of the stops in their new optimized order\n",
    "    locs = raw['trip']['locations']\n",
    "    new_point_order = [(locs[loc]['lon'], locs[loc]['lat']) for loc in range(len(locs))]\n",
    "    \n",
    "    #the new points returned from the mapzen tool need to be matched up to my original set of points passed\n",
    "    #to the function, so that the point name order can be determined. The mapzen points are not exactly the same \n",
    "    #values as the original points passed (they are probably located to the nearest street or something). \n",
    "    #Therefore, I link the new points and the original points by rounding the coordinates to account for \n",
    "    #differences in input and output. This is then used to calculate the order of the point names\n",
    "    new_point_order_rounded = [(round(x, 3), round(y, 3)) for (x, y) in new_point_order]\n",
    "    original_points_rounded = [(round(x, 3), round(y, 3)) for (x, y) in points]\n",
    "    point_order = [original_points_rounded.index(x) for x in new_point_order_rounded]\n",
    "    name_order = [names[i] for i in point_order]\n",
    "    \n",
    "    #Extract the path shape for each of the legs, decode them, and then combine into one polyline\n",
    "    raw_path = [raw['trip']['legs'][x]['shape'] for x in range(len(raw['trip']['legs']))]\n",
    "    decode_paths = [tuple(item) for sublist in [decode(z) for z in raw_path] for item in sublist]\n",
    "    \n",
    "    #return a dictionary that contains raw mapzen output, trip time, trip distance, new ordered points, \n",
    "    #new ordered point names, and a decoded path\n",
    "    return {'raw': raw, \n",
    "    'time': raw['trip']['summary']['time']/60,\n",
    "    'length': raw['trip']['summary']['length'], \n",
    "    'points': new_point_order,\n",
    "    'original_points':points,\n",
    "    'order': name_order,\n",
    "    'line': decode_paths}"
   ]
  },
  {
   "cell_type": "markdown",
   "metadata": {},
   "source": [
    "Below, I set up the parameters that I will pass to the optimize route function. I specify a list of 6 stops in my neighborhood that Celeste and I will need to visit as part of our Sunday morning errands (note that I use a combination of business names, addresses, and coordinates). I also specify the set of names that correspond to these stops, that will be used just to make the labeling easier. As much as I wish it were the case, our Sunday errands generally do not involve ice cream, pizza, bagels, and art museums. Nonetheless, for this example I've included my favorite desinations of these types as stops that we need to make.\n",
    "\n",
    "Lastly, I specify our approximate home coordinates that we will be routing to and from."
   ]
  },
  {
   "cell_type": "code",
   "execution_count": 13,
   "metadata": {
    "collapsed": false
   },
   "outputs": [],
   "source": [
    "stops = ['Toy Boat Dessert Cafe, San Francisco, CA',\n",
    "       'Pizzetta 211, San Francisco, CA', \n",
    "       'Arguello Super Market, San Francisco, CA',\n",
    "       '4700 Geary Blvd, San Francisco, CA',\n",
    "       (-122.465613, 37.770016),\n",
    "       '3519 California St, San Francisco, CA 94118']\n",
    "\n",
    "stop_labels = ['Toy Boat',\n",
    "             'Pizzetta',\n",
    "             'Arguello Market',\n",
    "             'Lamps Plus',\n",
    "             'de Young Museum',\n",
    "             \"Noah's Bagels\"]\n",
    "\n",
    "home = (-122.464186, 37.779111)"
   ]
  },
  {
   "cell_type": "markdown",
   "metadata": {},
   "source": [
    "I then apply this function to my set of stops and return the optimized stop order, the route time, and the route distance. I first optimize the route as a pedestrian and then as a bicyclist. As you can see, the stop order is slightly different for these two modes of transit, likely keeping the bike route on roads / paths that are better for biking."
   ]
  },
  {
   "cell_type": "code",
   "execution_count": 22,
   "metadata": {
    "collapsed": false
   },
   "outputs": [
    {
     "name": "stdout",
     "output_type": "stream",
     "text": [
      "['Home', 'Lamps Plus', 'Pizzetta', 'Toy Boat', \"Noah's Bagels\", 'Arguello Market', 'de Young Museum', 'Home']\n",
      "113 minutes\n",
      "9.357 km\n"
     ]
    }
   ],
   "source": [
    "walk_opt = optimize_stops(home, stops, stop_labels = stop_labels)\n",
    "print walk_opt['order']\n",
    "print str(walk_opt['time']) + ' minutes'\n",
    "print str(walk_opt['length']) + ' km'"
   ]
  },
  {
   "cell_type": "code",
   "execution_count": 26,
   "metadata": {
    "collapsed": false
   },
   "outputs": [],
   "source": [
    "new=walk_opt['points']\n",
    "org=walk_opt['original_points']\n",
    "new_point_order_rounded = [(round(x, 3), round(y, 3)) for (x, y) in new]\n",
    "original_points_rounded = [(round(x, 3), round(y, 3)) for (x, y) in org]\n",
    "point_order = [original_points_rounded.index(x) for x in new_point_order_rounded]\n",
    "\n"
   ]
  },
  {
   "cell_type": "code",
   "execution_count": 27,
   "metadata": {
    "collapsed": false
   },
   "outputs": [
    {
     "data": {
      "text/plain": [
       "[0, 4, 2, 1, 6, 3, 5, 0]"
      ]
     },
     "execution_count": 27,
     "metadata": {},
     "output_type": "execute_result"
    }
   ],
   "source": [
    "point_order"
   ]
  },
  {
   "cell_type": "code",
   "execution_count": 34,
   "metadata": {
    "collapsed": false
   },
   "outputs": [],
   "source": [
    "org_ordered=[org[i] for i in point_order]\n",
    "\n",
    "org_ordered_d=gpd.GeoSeries([Point(x) for x in org_ordered],crs={'init': 'epsg:4326'}).to_crs(epsg=3310)\n",
    "new_d=gpd.GeoSeries([Point(x) for x in new],crs={'init': 'epsg:4326'}).to_crs(epsg=3310) "
   ]
  },
  {
   "cell_type": "code",
   "execution_count": 36,
   "metadata": {
    "collapsed": false
   },
   "outputs": [
    {
     "data": {
      "text/plain": [
       "0    0.208096\n",
       "1    0.222334\n",
       "2    0.286317\n",
       "3    0.263858\n",
       "4    0.087949\n",
       "5    0.345060\n",
       "6    0.087968\n",
       "7    0.208096\n",
       "dtype: float64"
      ]
     },
     "execution_count": 36,
     "metadata": {},
     "output_type": "execute_result"
    }
   ],
   "source": [
    "org_ordered_d.distance(new_d)"
   ]
  },
  {
   "cell_type": "code",
   "execution_count": 2,
   "metadata": {
    "collapsed": false
   },
   "outputs": [
    {
     "ename": "NameError",
     "evalue": "name 'optimize_stops' is not defined",
     "output_type": "error",
     "traceback": [
      "\u001b[1;31m---------------------------------------------------------------------------\u001b[0m",
      "\u001b[1;31mNameError\u001b[0m                                 Traceback (most recent call last)",
      "\u001b[1;32m<ipython-input-2-b459246f51eb>\u001b[0m in \u001b[0;36m<module>\u001b[1;34m()\u001b[0m\n\u001b[1;32m----> 1\u001b[1;33m \u001b[0mbike_opt\u001b[0m \u001b[1;33m=\u001b[0m \u001b[0moptimize_stops\u001b[0m\u001b[1;33m(\u001b[0m\u001b[0mhome\u001b[0m\u001b[1;33m,\u001b[0m \u001b[0mstops\u001b[0m\u001b[1;33m,\u001b[0m \u001b[0mstop_labels\u001b[0m \u001b[1;33m=\u001b[0m \u001b[0mstop_labels\u001b[0m\u001b[1;33m,\u001b[0m\u001b[0mcosting\u001b[0m \u001b[1;33m=\u001b[0m \u001b[1;34m'bicycle'\u001b[0m\u001b[1;33m)\u001b[0m\u001b[1;33m\u001b[0m\u001b[0m\n\u001b[0m\u001b[0;32m      2\u001b[0m \u001b[1;32mprint\u001b[0m \u001b[0mbike_opt\u001b[0m\u001b[1;33m[\u001b[0m\u001b[1;34m'order'\u001b[0m\u001b[1;33m]\u001b[0m\u001b[1;33m\u001b[0m\u001b[0m\n\u001b[0;32m      3\u001b[0m \u001b[1;32mprint\u001b[0m \u001b[0mstr\u001b[0m\u001b[1;33m(\u001b[0m\u001b[0mbike_opt\u001b[0m\u001b[1;33m[\u001b[0m\u001b[1;34m'time'\u001b[0m\u001b[1;33m]\u001b[0m\u001b[1;33m)\u001b[0m \u001b[1;33m+\u001b[0m \u001b[1;34m' minutes'\u001b[0m\u001b[1;33m\u001b[0m\u001b[0m\n\u001b[0;32m      4\u001b[0m \u001b[1;32mprint\u001b[0m \u001b[0mstr\u001b[0m\u001b[1;33m(\u001b[0m\u001b[0mbike_opt\u001b[0m\u001b[1;33m[\u001b[0m\u001b[1;34m'length'\u001b[0m\u001b[1;33m]\u001b[0m\u001b[1;33m)\u001b[0m \u001b[1;33m+\u001b[0m \u001b[1;34m' km'\u001b[0m\u001b[1;33m\u001b[0m\u001b[0m\n",
      "\u001b[1;31mNameError\u001b[0m: name 'optimize_stops' is not defined"
     ]
    }
   ],
   "source": [
    "bike_opt = optimize_stops(home, stops, stop_labels = stop_labels,costing = 'bicycle')\n",
    "print bike_opt['order']\n",
    "print str(bike_opt['time']) + ' minutes'\n",
    "print str(bike_opt['length']) + ' km'"
   ]
  },
  {
   "cell_type": "markdown",
   "metadata": {},
   "source": [
    "## Determining Stops and Order with Multiple People"
   ]
  },
  {
   "cell_type": "markdown",
   "metadata": {},
   "source": [
    "Now that I have a working function that wraps Mapzen's optimize route service, I am ready to extend it work with multiple people. The general approach is to first find the unique combinations that a list of stops can be split among a given number of people, and then determine in which of these combinations minimizes the maximum time of any 1 person. \n",
    "\n",
    "### Unique ways that stops can be split\n",
    "I use a function adapted from [here](http://stackoverflow.com/a/39199937/3776938) to find the unique ways in that a list of N elements can be partitioned into K groups. This function is written so that the order of groups or of elements within a group does not matter. By this I mean that ```[['A','B'],['C','D']]``` is considered identical to ```[['C','D'],['A','B']]``` as well as to ```[['B','A'],['C','D']]```."
   ]
  },
  {
   "cell_type": "code",
   "execution_count": null,
   "metadata": {
    "collapsed": false
   },
   "outputs": [],
   "source": [
    "def sorted_k_partitions(seq, k):\n",
    "    n = len(seq)\n",
    "    working_partition = []\n",
    "\n",
    "    def generate_partitions(i):\n",
    "        if i >=  n:\n",
    "            yield list(map(tuple, working_partition))\n",
    "        else:\n",
    "            if n - i > k - len(working_partition):\n",
    "                for part in working_partition:\n",
    "                    part.append(seq[i])\n",
    "                    for bar in generate_partitions(i + 1):\n",
    "                        yield bar\n",
    "                    part.pop()\n",
    "\n",
    "            if len(working_partition) < k:\n",
    "                working_partition.append([seq[i]])\n",
    "                for bar in generate_partitions(i + 1):\n",
    "                    yield bar\n",
    "                working_partition.pop()\n",
    "\n",
    "    result = generate_partitions(0)\n",
    "\n",
    "    # Sort the parts in each partition in shortlex order and then by the length of each part, \n",
    "    #and then lexicographically\n",
    "    result = [sorted(ps, key = lambda p: (len(p), p)) for ps in result]\n",
    "    result = sorted(result, key = lambda ps: (map(len, ps), ps))\n",
    "    return result"
   ]
  },
  {
   "cell_type": "markdown",
   "metadata": {},
   "source": [
    "I demonstrate an application of the function below, showing the 7 unique ways that 4 stops can be split among 2 people."
   ]
  },
  {
   "cell_type": "code",
   "execution_count": null,
   "metadata": {
    "collapsed": false
   },
   "outputs": [],
   "source": [
    "for c in sorted_k_partitions(['A', 'B', 'C', 'D'], 2):\n",
    "    print c"
   ]
  },
  {
   "cell_type": "markdown",
   "metadata": {},
   "source": [
    "More generally, I build a matrix that shows the number of combinations and number of optimize stop requests that need to be made based on the number of stops and the number of salesman. The first number is the number of unique combinations and the 2nd is the number of requests (which is just the number of combinations multiplied by the number of salesmen). "
   ]
  },
  {
   "cell_type": "code",
   "execution_count": null,
   "metadata": {
    "collapsed": false
   },
   "outputs": [],
   "source": [
    "num_test=6\n",
    "nk_matrix=pd.DataFrame(index=range(1,num_test+1),columns=pd.MultiIndex.from_product([range(1,num_test+1),['C','R']]))\n",
    "\n",
    "for n in range(1,num_test+1):\n",
    "    for k in range(1,num_test+1):\n",
    "        combos=sorted_k_partitions(range(1,k+1),n)\n",
    "        nk_matrix.loc[n,(k,'C')]=len(combos)\n",
    "        nk_matrix.loc[n,(k,'R')]=len([item for sublist in combos for item in sublist])\n",
    "\n",
    "nk_matrix.index.name='# of Salesman'\n",
    "nk_matrix.columns.names=['# of Stops',None]\n",
    "nk_matrix"
   ]
  },
  {
   "cell_type": "markdown",
   "metadata": {},
   "source": [
    "### Optimizing Stops Among K People\n",
    "I then write a function that wraps my single-person route optimization function. The function applies the original function to each unique way that the stops can be partitioned, and determines the the partition that minimizes the maximum time of the travelers. The input is identical to the original function except for the ```num_travelers``` parameter. If ```num_travelers``` is set to 1, the result will be identical between the two functions.\n",
    "\n",
    "The output too is nearly identical to the previous function - a dictionary containing stop order, stop points, and trip time. However, now the function returns a list of these values, where the length of the list is equal to the number of travelers."
   ]
  },
  {
   "cell_type": "code",
   "execution_count": null,
   "metadata": {
    "collapsed": true
   },
   "outputs": [],
   "source": [
    "def optimize_stops_mult(home, stops, num_travelers, costing = 'pedestrian', api_key = matrix_key, home_label = 'Home',\n",
    "                  stop_labels = None):\n",
    "    #get all possible options in which the stops can be broken up between the specified number of travelers\n",
    "    options = sorted_k_partitions(stops, num_travelers)\n",
    "    #create lists to store sublists of the time, name order, and point order for each option and traveler\n",
    "    all_times = []\n",
    "    all_orders = []\n",
    "    all_points = []\n",
    "    all_lines = []\n",
    "    for option in options: #loop through each possible way to split the stops\n",
    "        #create lists to store the time, name order, and point order for each traveler\n",
    "        option_times = [] \n",
    "        option_orders = []\n",
    "        option_points = []\n",
    "        option_lines = []\n",
    "        #calculate the optimal stop order for each traveler with each set of stop options\n",
    "        #using the previously defined function\n",
    "        #append relevant information to lists\n",
    "        for traveler in option:\n",
    "            sub_labels = [stop_labels[stops.index(x)] for x in traveler] if stop_labels else None\n",
    "\n",
    "            result = optimize_stops(home = home, stops = list(traveler), costing = costing, api_key = api_key,\n",
    "                                  home_label = home_label, stop_labels = sub_labels)\n",
    "            option_times.append(result['time'])\n",
    "            option_orders.append(result['order'])\n",
    "            option_points.append(result['points'])\n",
    "            option_lines.append(result['line'])\n",
    "\n",
    "        all_times.append(option_times)\n",
    "        all_orders.append(option_orders)\n",
    "        all_points.append(option_points)\n",
    "        all_lines.append(option_lines)\n",
    "\n",
    "    #get the index of the option that minimizes the max of any time that a traveler takes\n",
    "    minloc = np.argmin([max(time) for time in all_times])\n",
    "    \n",
    "    #return a dictionary of the stop order, points, and time for the optimized options\n",
    "    opt_order = [x[1: -1] for x in all_orders[minloc]]\n",
    "    opt_times = all_times[minloc]\n",
    "    opt_points = [x[1: -1] for x in all_points[minloc]]\n",
    "    home_point = [x[0] for x in all_points[minloc]][0]\n",
    "    polylines = all_lines[minloc]\n",
    "    return {'order': opt_order, 'time': opt_times, 'points': opt_points, 'home_point': home_point, 'lines':polylines}\n"
   ]
  },
  {
   "cell_type": "markdown",
   "metadata": {},
   "source": [
    "I use the same set of 6 stops in the Inner Richmond, but now specify that there will be two travelers. I extract the ordered set of stops for each of the two travelers, the time (in minutes) that each person's trip will take, and then plot the stops as well as the routes on a map.\n",
    "\n",
    "As you can see, when I extract the stop order from the dictionary I get a list of two ordered sublists. This indicates that the first person should go to Pizzetta and Lamps Plus and the second person should go to Toy Boat, Noah's Bagels, Arguello, Market, and the de Young Museum (in that order). It may seem unfair that one person has to do 4 stops and the other only 2, but as you can see on the map, Pizzetta is much further away from home than the others. The person that makes the two stop trip will spend 53 minutes and the person that makes the four stop trip will spend 68 minutes. 68 minutes is the minimum amount of time that the person with the longer trip takes in any combination ways that these can be partitioned. \n",
    "\n",
    "In the map, the home location is shown in black, and each person's stops are shown in a different color. Stops are labeled with the stop name as well as the stop number (showing the order that the stops should be visited by each person)."
   ]
  },
  {
   "cell_type": "code",
   "execution_count": null,
   "metadata": {
    "collapsed": false
   },
   "outputs": [],
   "source": [
    "opt_2_people = optimize_stops_mult(home, stops, num_travelers = 2, stop_labels = stop_labels)"
   ]
  },
  {
   "cell_type": "code",
   "execution_count": null,
   "metadata": {
    "collapsed": false
   },
   "outputs": [],
   "source": [
    "for i in opt_2_people['order']:\n",
    "    print i"
   ]
  },
  {
   "cell_type": "code",
   "execution_count": null,
   "metadata": {
    "collapsed": false
   },
   "outputs": [],
   "source": [
    "opt_2_people['time']"
   ]
  },
  {
   "cell_type": "code",
   "execution_count": null,
   "metadata": {
    "collapsed": false
   },
   "outputs": [],
   "source": [
    "points = [[opt_2_people['home_point']]] + opt_2_people['points']\n",
    "labels = [['Home']] + [[' - '.join((str(i), x)) for i, x in enumerate(l, 1)] for l in opt_2_people['order']]\n",
    "\n",
    "\n",
    "m1 = plot_stops(points, zoom_level = 14, tiles = 'Stamen Watercolor', labels = labels, line_coords = opt_2_people['lines'])\n",
    "m1"
   ]
  },
  {
   "cell_type": "markdown",
   "metadata": {},
   "source": [
    "I also run the function on the same set of stops, this time specifying bike transportation. As you can see the routes are slightly different, favoring roads that are better for biking. The times are also much shorter (12 and 18 minutes vs 53 and 68)."
   ]
  },
  {
   "cell_type": "code",
   "execution_count": null,
   "metadata": {
    "collapsed": false
   },
   "outputs": [],
   "source": [
    "opt_2_people_bike = optimize_stops_mult(home, stops, num_travelers = 2, stop_labels = stop_labels, costing = 'bicycle')\n",
    "print opt_2_people_bike['time']"
   ]
  },
  {
   "cell_type": "code",
   "execution_count": null,
   "metadata": {
    "collapsed": false
   },
   "outputs": [],
   "source": [
    "points = [[opt_2_people_bike['home_point']]] + opt_2_people_bike['points']\n",
    "labels = [['Home']]+[[' - '.join((str(i), x)) for i, x in enumerate(l, 1)] for l in opt_2_people_bike['order']]\n",
    "\n",
    "m2 = plot_stops(points, zoom_level = 14, tiles = 'Stamen Watercolor', labels = labels, line_coords = opt_2_people_bike['lines'])\n",
    "m2"
   ]
  },
  {
   "cell_type": "markdown",
   "metadata": {},
   "source": [
    "Now let's say that Celeste and I have a friend who's willing to help us with our errands. I run the optimization function again, now specifying 3 travelers. The results from this indicated that one person should go to Pizzetta, one person should go to Toy Boat and Noah's Bagels, and one person should go to Lamp's Plus, the de Young, and Arguello Market. In this case, the person with the fewest amount of stops has the longest travel time (52 minutes), and the full set of errands will be made 15 minutes faster than it was with only 2 people."
   ]
  },
  {
   "cell_type": "code",
   "execution_count": null,
   "metadata": {
    "collapsed": false
   },
   "outputs": [],
   "source": [
    "opt_3_people = optimize_stops_mult(home, stops, 3, stop_labels = stop_labels)"
   ]
  },
  {
   "cell_type": "code",
   "execution_count": null,
   "metadata": {
    "collapsed": false
   },
   "outputs": [],
   "source": [
    "for i in opt_3_people['order']:\n",
    "    print i"
   ]
  },
  {
   "cell_type": "code",
   "execution_count": null,
   "metadata": {
    "collapsed": false
   },
   "outputs": [],
   "source": [
    "opt_3_people['time']"
   ]
  },
  {
   "cell_type": "code",
   "execution_count": null,
   "metadata": {
    "collapsed": false
   },
   "outputs": [],
   "source": [
    "points = [[opt_3_people['home_point']]] + opt_3_people['points']\n",
    "labels = [['Home']] + [[' - '.join((str(i), x)) for i, x in enumerate(l, 1)] for l in opt_3_people['order']]\n",
    "\n",
    "m3 = plot_stops(points, zoom_level = 14, tiles = 'Stamen Watercolor', labels = labels,line_coords = opt_3_people['lines'])\n",
    "m3"
   ]
  },
  {
   "cell_type": "code",
   "execution_count": null,
   "metadata": {
    "collapsed": false
   },
   "outputs": [],
   "source": [
    "#sf_landmarks.save('sutro_transamerica.html')\n",
    "#sf_rand_points.save('sf_random_points.html')\n",
    "#m1.save('optimize_stops_2_people_walk.html')\n",
    "#m2.save('optimize_stops_2_people_bike.html')\n",
    "#m3.save('optimize_stops_3_people_walk.html')\n"
   ]
  },
  {
   "cell_type": "code",
   "execution_count": null,
   "metadata": {
    "collapsed": true
   },
   "outputs": [],
   "source": []
  }
 ],
 "metadata": {
  "kernelspec": {
   "display_name": "Python 2",
   "language": "python",
   "name": "python2"
  },
  "language_info": {
   "codemirror_mode": {
    "name": "ipython",
    "version": 2
   },
   "file_extension": ".py",
   "mimetype": "text/x-python",
   "name": "python",
   "nbconvert_exporter": "python",
   "pygments_lexer": "ipython2",
   "version": "2.7.10"
  }
 },
 "nbformat": 4,
 "nbformat_minor": 0
}
