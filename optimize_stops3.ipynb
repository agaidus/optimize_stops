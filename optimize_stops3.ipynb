{
 "cells": [
  {
   "cell_type": "markdown",
   "metadata": {},
   "source": [
    "## Introduction\n",
    "\n",
    "### Traveling Salesman Problem\n",
    "The traveling salesman problem is a classic optimization problem that seeks to find the most efficient route that connects a given set of points. I recently discovered a set of services built by the open-source mapping company, Mapzen, that make this complex problem easy to approximate for relatively small numbers of stops. Given a set of coordinates, the Mapzen [optimize route](https://mapzen.com/documentation/mobility/optimized/api-reference/) service uses road network data to produce a time-distance matrix betweent these points, and then calculates the route that minimizes the total travel time. This can be done for one of three modes of transportaion - pedestrian, bicycle, and car. They have a great [example](https://mapzen.com/blog/optimized-route/) with a cool map where they determine the optimal route to visit burrito 'dispensaries' in San Franscico.\n",
    "\n",
    "I use this root optimization tool in conjunction Mapzen's [Search](https://mapzen.com/documentation/search/) Service, which uses open source data to geocode addresses, landmarks, and businesses. Using these two services together is really handy, because it allows the user to specify locations without knowing their lat / long coordinates.\n",
    "\n",
    "### Extension to the TSP\n",
    "The Mapzen optimize route service takes a set of points and finds the optimal route that a person should take to visit all of these points. However, what if we have multiple \"salesmen\"? How should the stops be split up between people and in what order should each person visit their stops?\n",
    "\n",
    "The idea for this was spurred by a project I'm involved with at work, in which we are sending out multiple research assistants to conduct surveys at a dozen or so different sites in Oakland. In this case, it doesn't matter if one person conducts more surveys than other or who goes to which site - the goal is just to minimize the total time to get them all done. \n",
    "\n",
    "Perhaps a more interesting and relevant application (for me!), is the optimization of Sunday morning errands between my girlfriend, Celeste, and I. Say we're both starting and ending at our apartment in the Inner Richmond, SF and have 6 different places that we need to stop at. How should Celeste and I split up these errands so that we're done as quickly as possible? \n",
    "\n",
    "In the post below, I write a set of functions in Python that wrap these two Mapzen services to help me answer these questions. Additionally, I will use the Python package ```folium``` to create leaflet.js slippy maps to display the results of this optimzation problem. Folium has a number of built-in tilesets from OpenStreetMap, MapQuest, MapBox, and makes it really easy to build web maps in Python. Let's get started!"
   ]
  },
  {
   "cell_type": "code",
   "execution_count": 19,
   "metadata": {
    "collapsed": false
   },
   "outputs": [],
   "source": [
    "import requests\n",
    "import pandas as pd\n",
    "import itertools\n",
    "import shapely\n",
    "from shapely.geometry import Point\n",
    "import geopandas as gpd\n",
    "import json\n",
    "import numpy as np\n",
    "import folium\n",
    "from numpy.random import RandomState, uniform\n",
    "import time\n",
    "import sys\n",
    "import os\n",
    "\n",
    "%matplotlib inline\n",
    "search_key='search-WWoh7Na'\n",
    "matrix_key='matrix-gjM8nT3'"
   ]
  },
  {
   "cell_type": "markdown",
   "metadata": {},
   "source": [
    "## Geocoding Locations with Mapzen's Search Tool\n",
    "I first write a function that wraps Mapzen's Search tool in order to geocode (obtain the lat / long coordinates for) an address, landmark, or business. The function returns a dictionary containg the raw result output from Mapzen (includes stuff such as data source, geocoding confidence, neighborhood data, etc), as well as the crucial piece of information for me - a formatted set of xy coordinates. By default I return only 1 result (the top result), but if I were to use this tool for a different context, I would perhaps be interested in returning a set of results. Below I use this function to geocode two famous San Francisco landmarks - the Transamerica Pyramid and Sutro Tower."
   ]
  },
  {
   "cell_type": "code",
   "execution_count": 20,
   "metadata": {
    "collapsed": true
   },
   "outputs": [],
   "source": [
    "def geocode_address_venue(text, key = search_key,params = None): #allow for additional Mapzen search parameters\n",
    "    search_parameters = {'api_key': key,'text': text,'size': 1,'layers': 'address,venue'}\n",
    "    if params:\n",
    "        search_parameters.update(params)\n",
    "    url = 'http://search.mapzen.com/v1/search'\n",
    "    r = requests.get(url, params = search_parameters)\n",
    "    data = r.json()\n",
    "    return {'raw': data,'coords': tuple(data['features'][0]['geometry']['coordinates'])}"
   ]
  },
  {
   "cell_type": "code",
   "execution_count": 21,
   "metadata": {
    "collapsed": false
   },
   "outputs": [
    {
     "name": "stdout",
     "output_type": "stream",
     "text": [
      "(-122.40303, 37.79465)\n",
      "(-122.45285, 37.755246)\n"
     ]
    }
   ],
   "source": [
    "transamerica = geocode_address_venue('Transamerica Pyramid, San Francisco, CA')['coords']\n",
    "sutro = geocode_address_venue('Sutro Tower, San Francisco, CA')['coords']\n",
    "print transamerica\n",
    "print sutro"
   ]
  },
  {
   "cell_type": "markdown",
   "metadata": {},
   "source": [
    "## Displaying Points on Leaflet Maps\n",
    "Now let's put these points on a map. I write a plotting function below that takes a list of coordinates and displays them on a Leaflet map. By default I use the Stamen Watercolor tiles because I think they look really cool, but if something like OpenStreetMap is more useful, that can also be specfied. The full set of available tile layers can be found [here](https://github.com/python-visualization/folium). The function also takes an optional set of colors and point labels, a zoom-level, and a center location. My function calculates default values if not specified. \n",
    "\n",
    "The function is written in a way that it accepts either a list of point coordinates, or a list of lists of point coordinates. If the latter is specified, each sublist is treated as a group of coordinates and will be symbolized in the same color. The function was ultimately written this way to make it easy to distinguish locations that each \"salesman\" will visit in the optimization problem coming later. Additionally, I allow for the specification of polyline coordinates, which will ultimately be used to plot an optimized route between the points.\n",
    "\n",
    "Below I map my two previously geocoded San Francisco landmarks along with the straight line that connects them, on Stamen Toner tiles. Note that on the 'live' map if you click on the points you will see that they are labeled appropriately."
   ]
  },
  {
   "cell_type": "code",
   "execution_count": 22,
   "metadata": {
    "collapsed": false
   },
   "outputs": [],
   "source": [
    "def plot_stops(point_coords, zoom_level = 15,tiles = 'Stamen Watercolor', point_colors = None, \n",
    "               labels = None, center_location = None, line_coords = None, line_colors = None):\n",
    "   \n",
    "    #if not a list of lists, make it one, which then allows the function to handle either\n",
    "    point_coords = [[x] for x in point_coords] if all([type(x) is not list for x in point_coords]) else point_coords\n",
    "    if labels:\n",
    "        labels = [[x] for x in labels] if all([type(x) is not list for x in labels]) else labels\n",
    "    if line_coords:\n",
    "        line_coords = [line_coords] if all([type(t) is tuple for t in line_coords]) else line_coords\n",
    "    \n",
    "    if line_colors:\n",
    "        line_colors = [line_colors] if type(line_colors) is not list else line_colors\n",
    "\n",
    "    #get all points as the flattened list to calculate the center\n",
    "    all_points = [item for sublist in point_coords for item in sublist]\n",
    "    #calculate start location as the mean x and mean y of all input points\n",
    "    if center_location:\n",
    "        center_location = [center_location[1],center_location[0]]\n",
    "    else:\n",
    "        center_location = np.array(all_points).mean(0).tolist()[::-1]\n",
    "    \n",
    "    #create a leaflet map, specifying center location, zoom level, and tiles\n",
    "    map_1 = folium.Map(location = center_location,zoom_start = zoom_level,tiles = tiles)\n",
    "    \n",
    "    #specify a set of default colors\n",
    "    color_options = ['black', 'blue', 'red', 'green', 'purple', 'orange', 'pink', 'white']\n",
    "    \n",
    "    #if no point colors specified use the default\n",
    "    point_colors = point_colors if point_colors else color_options[:len(point_coords)]\n",
    "    \n",
    "    #if plotting lines as well, get line colors, otherwise use default\n",
    "    if line_coords:\n",
    "        line_colors = line_colors if line_colors else color_options[1:][:len(line_coords)]\n",
    "\n",
    "    #loop through each point or grouping of points\n",
    "    for c, point_coords in enumerate(point_coords):\n",
    "        point_color = point_colors[c] #get color from color list\n",
    "\n",
    "        if labels: sublabel_list = labels[c] #get labels from label list\n",
    "        for i, stop_coord in enumerate(point_coords): \n",
    "            label = sublabel_list[i] if labels else None\n",
    "            #Add point to map at specified coordinate \n",
    "            folium.Marker([stop_coord[1], stop_coord[0]], popup = label, #need to reverse long/lat to lat/long\n",
    "                           icon = folium.Icon(color = point_color)).add_to(map_1)\n",
    "    \n",
    "    #if plotting lines, loop through each set of lines and plot\n",
    "    if line_coords:\n",
    "        for i, pline in enumerate(line_coords):\n",
    "            line_color = line_colors[i]\n",
    "            folium.PolyLine([(y,x) for (x,y) in pline], color = line_color).add_to(map_1) #need to reverse long/lat to lat/long\n",
    "    return map_1"
   ]
  },
  {
   "cell_type": "code",
   "execution_count": 23,
   "metadata": {
    "collapsed": false
   },
   "outputs": [
    {
     "data": {
      "text/html": [
       "<div style=\"width:100%;\"><div style=\"position:relative;width:100%;height:0;padding-bottom:60%;\"><iframe src=\"data:text/html;base64,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\" style=\"position:absolute;width:100%;height:100%;left:0;top:0;\"></iframe></div></div>"
      ],
      "text/plain": [
       "<folium.folium.Map at 0xd850710>"
      ]
     },
     "execution_count": 23,
     "metadata": {},
     "output_type": "execute_result"
    }
   ],
   "source": [
    "sf_landmarks = plot_stops([transamerica, sutro], labels = ['Transamerica Pyramid','Sutro Tower'], \n",
    "            zoom_level = 13, tiles = 'Stamen Toner', point_colors = ['red','blue'],\n",
    "            line_coords = [transamerica, sutro], line_colors = 'purple')\n",
    "sf_landmarks"
   ]
  },
  {
   "cell_type": "markdown",
   "metadata": {},
   "source": [
    "I also demonstrate how a list of list of points can be passed to my plotting function, resulting in each set of points getting symbolized in a different color. I write a function that generates random points within a polygon, and use that to generate 6 lists of 5 points located in San Francisco (boundaries read in from a geosjon). I plot them below. Here the point are labeled by there group number (1-6) and their point number within their group (1-5)."
   ]
  },
  {
   "cell_type": "code",
   "execution_count": 24,
   "metadata": {
    "collapsed": true
   },
   "outputs": [],
   "source": [
    "def gen_random_points(poly, n, random_seed = None):\n",
    "    xmin, ymin, xmax, ymax = poly.bounds\n",
    "    Points = []\n",
    "    i = 0\n",
    "    while len(Points) <= n:\n",
    "        if random_seed:\n",
    "            x, y = RandomState(random_seed + i).uniform(xmin, xmax), RandomState(random_seed + i + 1).uniform(ymin, ymax)\n",
    "        else:\n",
    "            x, y = uniform(xmin, xmax),uniform(ymin, ymax)\n",
    "        if Point(x, y).within(poly):\n",
    "            Points.append((x, y))\n",
    "        i += 1\n",
    "    return Points"
   ]
  },
  {
   "cell_type": "code",
   "execution_count": 25,
   "metadata": {
    "collapsed": false
   },
   "outputs": [
    {
     "data": {
      "text/html": [
       "<div style=\"width:100%;\"><div style=\"position:relative;width:100%;height:0;padding-bottom:60%;\"><iframe src=\"data:text/html;base64,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\" style=\"position:absolute;width:100%;height:100%;left:0;top:0;\"></iframe></div></div>"
      ],
      "text/plain": [
       "<folium.folium.Map at 0x88cbc10>"
      ]
     },
     "execution_count": 25,
     "metadata": {},
     "output_type": "execute_result"
    }
   ],
   "source": [
    "SF = gpd.read_file('SF.geojson').iloc[0]['geometry']\n",
    "rand_points = [gen_random_points(SF, n = 5) for t in range(6)]\n",
    "labels = [[str((t, i)) for i, x in enumerate(l, 1)] for t, l in enumerate(rand_points, 1)]\n",
    "\n",
    "sf_rand_points = plot_stops(rand_points, zoom_level = 12, tiles = 'Stamen Toner', labels = labels)\n",
    "sf_rand_points"
   ]
  },
  {
   "cell_type": "markdown",
   "metadata": {},
   "source": [
    "## Determining Stop Order using Mapzen's Optimize Route Service \n",
    "Now that I have tools to geocode and visualize points, I'm ready write a function that uses the optimize route tool to determine the an optimal order in which one person should visit a set of points. Later on, I will build off of this function to optimize stops for multiple people, but this is an initial building-block.\n",
    "\n",
    "My function is written in a way that the start and end location are assumed to be the same, although this could easily be tweaked. The function takes a \"home\" location, a set of stops, and calculates the quickest route to go from home, to each of these stops, and back. It returns a dictionary of the raw output, as well as the pieces of information that are most relevant for my purposes - trip length, trip distance, optimized stop order, stop coordinates, and route coordinates.\n",
    "\n",
    "Note that Mapzen uses the [Google Maps encoded polyline format](https://developers.google.com/maps/documentation/utilities/polylinealgorithm) to store a series of latitude, longitude coordinates as a single string (this is done to reduce the size of the route). However, for my purposes, I need the string decoded into a list of lat/long coordinates. Mapzen provides [code](https://mapzen.com/documentation/mobility/decoding/) that can be used to decode the string, which I use below.\n",
    "\n",
    "My function then wraps the geocoding function I wrote above, so that the user can specify any combination of addresses, venues, and coordinates (if coordinates are specified they are not passed to the geocoding function).  It defaults to pedestrian mode of transportation, but can also optimize driving and biking routes.\n",
    "\n",
    "I also allow the user to specify a set of stop labels, which will be returned as the ordered list of stops. Otherwise, the function defaults to the raw input that was passed to the function."
   ]
  },
  {
   "cell_type": "code",
   "execution_count": 26,
   "metadata": {
    "collapsed": false
   },
   "outputs": [],
   "source": [
    "#Decoding function used to extract lat/long coordinates from google maps encoded polylines\n",
    "#https://mapzen.com/documentation/mobility/decoding/\n",
    "\n",
    "#six degrees of precision in valhalla\n",
    "inv = 1.0 / 1e6;\n",
    "#decode an encoded string\n",
    "def decode(encoded):\n",
    "    decoded = []\n",
    "    previous = [0,0]\n",
    "    i = 0\n",
    "    #for each byte\n",
    "    while i < len(encoded):\n",
    "        #for each coord (lat, lon)\n",
    "        ll = [0, 0]\n",
    "        for j in [0, 1]:\n",
    "            shift = 0\n",
    "            byte = 0x20\n",
    "            #keep decoding bytes until you have this coord\n",
    "            while byte >=  0x20:\n",
    "                byte = ord(encoded[i]) - 63\n",
    "                i +=  1\n",
    "                ll[j] |=  (byte & 0x1f) << shift\n",
    "                shift +=  5\n",
    "            #get the final value adding the previous offset and remember it for the next\n",
    "            ll[j] = previous[j] + (~(ll[j] >> 1) if ll[j] & 1 else (ll[j] >> 1))\n",
    "            previous[j] = ll[j]\n",
    "            #scale by the precision and chop off long coords also flip the positions so\n",
    "            #its the far more standard lon,lat instead of lat,lon\n",
    "        decoded.append([float('%.6f' % (ll[1] * inv)), float('%.6f' % (ll[0] * inv))])\n",
    "    #hand back the list of coordinates\n",
    "    return decoded"
   ]
  },
  {
   "cell_type": "code",
   "execution_count": 27,
   "metadata": {
    "collapsed": false
   },
   "outputs": [],
   "source": [
    "def optimize_stops(home, stops, costing = 'pedestrian', api_key = matrix_key, home_label = 'Home',\n",
    "                  stop_labels = None):\n",
    "    \n",
    "    #geocode home and stops if not a coordinate\n",
    "    home = home if type(home) is tuple else geocode_address_venue(home)\n",
    "    stops = [geocode_address_venue(stop)['coords'] if type(stop) is not tuple else stop for stop in stops]\n",
    "    \n",
    "    #full set of points are list of points that start and end with the home location\n",
    "    points = [home] + stops + [home]\n",
    "    \n",
    "    #define point labels\n",
    "    names = [home_label] + (stop_labels if stop_labels else stops) + [home_label]\n",
    "    \n",
    "    #set up parameters to pass to mapzen function\n",
    "    js = {'locations':[{'lon': point[0], 'lat': point[1]} for point in points], 'costing': costing}\n",
    "    params = {'json': json.dumps(js), 'api_key': api_key}\n",
    "    url = 'https://matrix.mapzen.com/optimized_route'\n",
    "    r = requests.get(url, params = params)\n",
    "    raw = r.json()\n",
    "    \n",
    "    #get the coordinates of the stops in their new optimized order\n",
    "    locs = raw['trip']['locations']\n",
    "    new_point_order = [(locs[loc]['lon'], locs[loc]['lat']) for loc in range(len(locs))]\n",
    "    \n",
    "    #the new points returned from the mapzen tool need to be matched up to my original set of points passed\n",
    "    #to the function, so that the point name order can be determined. The mapzen points are not exactly the same \n",
    "    #values as the original points passed (they are probably located to the nearest street or something). \n",
    "    #Therefore, I link the new points and the original points by rounding the coordinates to account for \n",
    "    #differences in input and output. This is then used to calculate the order of the point names\n",
    "    new_point_order_rounded = [(round(x, 3), round(y, 3)) for (x, y) in new_point_order]\n",
    "    original_points_rounded = [(round(x, 3), round(y, 3)) for (x, y) in points]\n",
    "    point_order = [original_points_rounded.index(x) for x in new_point_order_rounded]\n",
    "    name_order = [names[i] for i in point_order]\n",
    "    \n",
    "    #Extract the path shape for each of the legs, decode them, and then combine into one polyline\n",
    "    raw_path = [raw['trip']['legs'][x]['shape'] for x in range(len(raw['trip']['legs']))]\n",
    "    decode_paths = [tuple(item) for sublist in [decode(z) for z in raw_path] for item in sublist]\n",
    "    \n",
    "    #return a dictionary that contains raw mapzen output, trip time, trip distance, new ordered points, \n",
    "    #new ordered point names, and a decoded path\n",
    "    return {'raw': raw, \n",
    "    'time': raw['trip']['summary']['time']/60,\n",
    "    'length': raw['trip']['summary']['length'], \n",
    "    'points': new_point_order,\n",
    "    'order': name_order,\n",
    "    'line': decode_paths}"
   ]
  },
  {
   "cell_type": "markdown",
   "metadata": {},
   "source": [
    "Below, I set up the parameters that I will pass to the optimize route function. I specify a list of 6 stops in my neighborhood that Celeste and I will need to visit as part of our Sunday morning errands (note that I use a combination of business names, addresses, and coordinates). I also specify the set of names that correspond to these stops, that will be used just to make the labeling easier. As much as I wish it were the case, our Sunday errands generally do not involve ice cream, pizza, bagels, and art museums. Nonetheless, for this example I've included my favorite desinations of these types as stops that we need to make.\n",
    "\n",
    "Lastly, I specify our approximate home coordinates that we will be routing to and from."
   ]
  },
  {
   "cell_type": "code",
   "execution_count": 28,
   "metadata": {
    "collapsed": false
   },
   "outputs": [],
   "source": [
    "stops = ['Toy Boat Dessert Cafe, San Francisco, CA',\n",
    "       'Pizzetta 211, San Francisco, CA', \n",
    "       'Arguello Super Market, San Francisco, CA',\n",
    "       '4700 Geary Blvd, San Francisco, CA',\n",
    "       (-122.465613, 37.770016),\n",
    "       '3519 California St, San Francisco, CA 94118']\n",
    "\n",
    "stop_labels = ['Toy Boat',\n",
    "             'Pizzetta',\n",
    "             'Arguello Market',\n",
    "             'Lamps Plus',\n",
    "             'de Young Museum',\n",
    "             \"Noah's Bagels\"]\n",
    "\n",
    "home = (-122.464186, 37.779111)"
   ]
  },
  {
   "cell_type": "markdown",
   "metadata": {},
   "source": [
    "I then apply this function to my set of stops and return the optimized stop order, the route time, and the route distance. I first optimize the route as a pedestrian and then as a bicyclist. As you can see, the stop order is slightly different for these two modes of transit, likely keeping the bike route on roads / paths that are better for biking."
   ]
  },
  {
   "cell_type": "code",
   "execution_count": 29,
   "metadata": {
    "collapsed": false
   },
   "outputs": [
    {
     "name": "stdout",
     "output_type": "stream",
     "text": [
      "['Home', 'Lamps Plus', 'Pizzetta', 'Toy Boat', \"Noah's Bagels\", 'Arguello Market', 'de Young Museum', 'Home']\n"
     ]
    }
   ],
   "source": [
    "walk_opt = optimize_stops(home, stops, stop_labels = stop_labels)\n",
    "print walk_opt['order']\n",
    "#print str(walk_opt['time']) + ' minutes'\n",
    "#print str(walk_opt['length']) + ' km'"
   ]
  },
  {
   "cell_type": "code",
   "execution_count": 31,
   "metadata": {
    "collapsed": false
   },
   "outputs": [
    {
     "data": {
      "text/plain": [
       "{u'trip': {u'language': u'en-US',\n",
       "  u'legs': [{u'maneuvers': [{u'begin_shape_index': 0,\n",
       "      u'end_shape_index': 2,\n",
       "      u'instruction': u'Walk north on 6th Avenue.',\n",
       "      u'length': 0.208,\n",
       "      u'street_names': [u'6th Avenue'],\n",
       "      u'time': 146,\n",
       "      u'travel_mode': u'pedestrian',\n",
       "      u'travel_type': u'foot',\n",
       "      u'type': 1,\n",
       "      u'verbal_pre_transition_instruction': u'Walk north on 6th Avenue for 200 meters.'},\n",
       "     {u'begin_shape_index': 2,\n",
       "      u'end_shape_index': 9,\n",
       "      u'instruction': u'Turn left onto Geary Boulevard.',\n",
       "      u'length': 0.472,\n",
       "      u'street_names': [u'Geary Boulevard'],\n",
       "      u'time': 333,\n",
       "      u'travel_mode': u'pedestrian',\n",
       "      u'travel_type': u'foot',\n",
       "      u'type': 15,\n",
       "      u'verbal_post_transition_instruction': u'Continue for a half kilometer.',\n",
       "      u'verbal_pre_transition_instruction': u'Turn left onto Geary Boulevard.',\n",
       "      u'verbal_transition_alert_instruction': u'Turn left onto Geary Boulevard.'},\n",
       "     {u'begin_shape_index': 9,\n",
       "      u'end_shape_index': 11,\n",
       "      u'instruction': u'Turn right onto 11th Avenue.',\n",
       "      u'length': 0.048,\n",
       "      u'street_names': [u'11th Avenue'],\n",
       "      u'time': 41,\n",
       "      u'travel_mode': u'pedestrian',\n",
       "      u'travel_type': u'foot',\n",
       "      u'type': 10,\n",
       "      u'verbal_post_transition_instruction': u'Continue for 50 meters.',\n",
       "      u'verbal_pre_transition_instruction': u'Turn right onto 11th Avenue.',\n",
       "      u'verbal_transition_alert_instruction': u'Turn right onto 11th Avenue.'},\n",
       "     {u'begin_shape_index': 11,\n",
       "      u'end_shape_index': 11,\n",
       "      u'instruction': u'Your destination is on the left.',\n",
       "      u'length': 0.0,\n",
       "      u'time': 0,\n",
       "      u'travel_mode': u'pedestrian',\n",
       "      u'travel_type': u'foot',\n",
       "      u'type': 6,\n",
       "      u'verbal_pre_transition_instruction': u'Your destination is on the left.',\n",
       "      u'verbal_transition_alert_instruction': u'Your destination will be on the left.'}],\n",
       "    u'shape': u'ciz`gAzxrqhF}wArEkZ|@`BvaA^|TbAhl@\\\\|T|@xk@`BvaAbBfbAsFLaRzA',\n",
       "    u'summary': {u'length': 0.728,\n",
       "     u'max_lat': 37.781151,\n",
       "     u'max_lon': -122.464157,\n",
       "     u'min_lat': 37.779106,\n",
       "     u'min_lon': -122.469704,\n",
       "     u'time': 520}},\n",
       "   {u'maneuvers': [{u'begin_shape_index': 0,\n",
       "      u'end_shape_index': 2,\n",
       "      u'instruction': u'Walk north on 11th Avenue.',\n",
       "      u'length': 0.174,\n",
       "      u'street_names': [u'11th Avenue'],\n",
       "      u'time': 122,\n",
       "      u'travel_mode': u'pedestrian',\n",
       "      u'travel_type': u'foot',\n",
       "      u'type': 3,\n",
       "      u'verbal_pre_transition_instruction': u'Walk north on 11th Avenue for 200 meters.'},\n",
       "     {u'begin_shape_index': 2,\n",
       "      u'end_shape_index': 17,\n",
       "      u'instruction': u'Turn left onto Clement Street.',\n",
       "      u'length': 1.143,\n",
       "      u'street_names': [u'Clement Street'],\n",
       "      u'time': 857,\n",
       "      u'travel_mode': u'pedestrian',\n",
       "      u'travel_type': u'foot',\n",
       "      u'type': 15,\n",
       "      u'verbal_post_transition_instruction': u'Continue for 1.1 kilometers.',\n",
       "      u'verbal_pre_transition_instruction': u'Turn left onto Clement Street.',\n",
       "      u'verbal_transition_alert_instruction': u'Turn left onto Clement Street.'},\n",
       "     {u'begin_shape_index': 17,\n",
       "      u'end_shape_index': 18,\n",
       "      u'instruction': u'Turn right onto 23rd Avenue.',\n",
       "      u'length': 0.178,\n",
       "      u'street_names': [u'23rd Avenue'],\n",
       "      u'time': 125,\n",
       "      u'travel_mode': u'pedestrian',\n",
       "      u'travel_type': u'foot',\n",
       "      u'type': 10,\n",
       "      u'verbal_post_transition_instruction': u'Continue for 200 meters.',\n",
       "      u'verbal_pre_transition_instruction': u'Turn right onto 23rd Avenue.',\n",
       "      u'verbal_transition_alert_instruction': u'Turn right onto 23rd Avenue.'},\n",
       "     {u'begin_shape_index': 18,\n",
       "      u'end_shape_index': 18,\n",
       "      u'instruction': u'Your destination is on the left.',\n",
       "      u'length': 0.0,\n",
       "      u'time': 0,\n",
       "      u'travel_mode': u'pedestrian',\n",
       "      u'travel_type': u'foot',\n",
       "      u'type': 6,\n",
       "      u'verbal_pre_transition_instruction': u'Your destination is on the left.',\n",
       "      u'verbal_transition_alert_instruction': u'Your destination will be on the left.'}],\n",
       "    u'shape': u'{h~`gAns}qhF_lAxBiSl@zAfbAbBvaALnIVpQL`Hd@b\\\\jB`eAhBbeAbBvaAzAfbA`BvaAbBvaA`BfbAzAvaAbBdbA}bBpH',\n",
       "    u'summary': {u'length': 1.494,\n",
       "     u'max_lat': 37.783718,\n",
       "     u'max_lon': -122.469704,\n",
       "     u'min_lat': 37.781151,\n",
       "     u'min_lon': -122.482903,\n",
       "     u'time': 1104}},\n",
       "   {u'maneuvers': [{u'begin_shape_index': 0,\n",
       "      u'end_shape_index': 1,\n",
       "      u'instruction': u'Walk south on 23rd Avenue.',\n",
       "      u'length': 0.178,\n",
       "      u'street_names': [u'23rd Avenue'],\n",
       "      u'time': 125,\n",
       "      u'travel_mode': u'pedestrian',\n",
       "      u'travel_type': u'foot',\n",
       "      u'type': 2,\n",
       "      u'verbal_pre_transition_instruction': u'Walk south on 23rd Avenue for 200 meters.'},\n",
       "     {u'begin_shape_index': 1,\n",
       "      u'end_shape_index': 22,\n",
       "      u'instruction': u'Turn left onto Clement Street.',\n",
       "      u'length': 1.708,\n",
       "      u'street_names': [u'Clement Street'],\n",
       "      u'time': 1273,\n",
       "      u'travel_mode': u'pedestrian',\n",
       "      u'travel_type': u'foot',\n",
       "      u'type': 15,\n",
       "      u'verbal_post_transition_instruction': u'Continue for 1.7 kilometers.',\n",
       "      u'verbal_pre_transition_instruction': u'Turn left onto Clement Street.',\n",
       "      u'verbal_transition_alert_instruction': u'Turn left onto Clement Street.'},\n",
       "     {u'begin_shape_index': 22,\n",
       "      u'end_shape_index': 23,\n",
       "      u'instruction': u'Turn right onto 5th Avenue.',\n",
       "      u'length': 0.023,\n",
       "      u'street_names': [u'5th Avenue'],\n",
       "      u'time': 16,\n",
       "      u'travel_mode': u'pedestrian',\n",
       "      u'travel_type': u'foot',\n",
       "      u'type': 10,\n",
       "      u'verbal_post_transition_instruction': u'Continue for 20 meters.',\n",
       "      u'verbal_pre_transition_instruction': u'Turn right onto 5th Avenue.',\n",
       "      u'verbal_transition_alert_instruction': u'Turn right onto 5th Avenue.'},\n",
       "     {u'begin_shape_index': 23,\n",
       "      u'end_shape_index': 23,\n",
       "      u'instruction': u'Your destination is on the right.',\n",
       "      u'length': 0.0,\n",
       "      u'time': 0,\n",
       "      u'travel_mode': u'pedestrian',\n",
       "      u'travel_type': u'foot',\n",
       "      u'type': 5,\n",
       "      u'verbal_pre_transition_instruction': u'Your destination is on the right.',\n",
       "      u'verbal_transition_alert_instruction': u'Your destination will be on the right.'}],\n",
       "    u'shape': u'kicagAllwrhF|bBqHcBebA{AwaAaBgbAcBwaAaBwaA{AgbAcBwaAiBceAkBaeAe@c\\\\MaHWqQMoIcBwaA{AgbAaBwaAcBwaAaBwaA{AgbAcBwaAaBwaA`Lz@',\n",
       "    u'summary': {u'length': 1.909,\n",
       "     u'max_lat': 37.783718,\n",
       "     u'max_lon': -122.463371,\n",
       "     u'min_lat': 37.78212,\n",
       "     u'min_lon': -122.482903,\n",
       "     u'time': 1414}},\n",
       "   {u'maneuvers': [{u'begin_shape_index': 0,\n",
       "      u'end_shape_index': 3,\n",
       "      u'instruction': u'Walk north on 5th Avenue.',\n",
       "      u'length': 0.261,\n",
       "      u'street_names': [u'5th Avenue'],\n",
       "      u'time': 190,\n",
       "      u'travel_mode': u'pedestrian',\n",
       "      u'travel_type': u'foot',\n",
       "      u'type': 3,\n",
       "      u'verbal_pre_transition_instruction': u'Walk north on 5th Avenue for 300 meters.'},\n",
       "     {u'begin_shape_index': 3,\n",
       "      u'end_shape_index': 18,\n",
       "      u'instruction': u'Turn right onto California Street.',\n",
       "      u'length': 1.046,\n",
       "      u'street_names': [u'California Street'],\n",
       "      u'time': 743,\n",
       "      u'travel_mode': u'pedestrian',\n",
       "      u'travel_type': u'foot',\n",
       "      u'type': 10,\n",
       "      u'verbal_post_transition_instruction': u'Continue for 1 kilometer.',\n",
       "      u'verbal_pre_transition_instruction': u'Turn right onto California Street.',\n",
       "      u'verbal_transition_alert_instruction': u'Turn right onto California Street.'},\n",
       "     {u'begin_shape_index': 18,\n",
       "      u'end_shape_index': 20,\n",
       "      u'instruction': u'Turn right onto Locust Street.',\n",
       "      u'length': 0.044,\n",
       "      u'rough': True,\n",
       "      u'street_names': [u'Locust Street'],\n",
       "      u'time': 31,\n",
       "      u'travel_mode': u'pedestrian',\n",
       "      u'travel_type': u'foot',\n",
       "      u'type': 10,\n",
       "      u'verbal_post_transition_instruction': u'Continue for 40 meters.',\n",
       "      u'verbal_pre_transition_instruction': u'Turn right onto Locust Street.',\n",
       "      u'verbal_transition_alert_instruction': u'Turn right onto Locust Street.'},\n",
       "     {u'begin_shape_index': 20,\n",
       "      u'end_shape_index': 20,\n",
       "      u'instruction': u'You have arrived at your destination.',\n",
       "      u'length': 0.0,\n",
       "      u'time': 0,\n",
       "      u'travel_mode': u'pedestrian',\n",
       "      u'travel_type': u'foot',\n",
       "      u'type': 4,\n",
       "      u'verbal_pre_transition_instruction': u'You have arrived at your destination.',\n",
       "      u'verbal_transition_alert_instruction': u'You will arrive at your destination.'}],\n",
       "    u'shape': u'moaagAriqqhFaL{@ssB`G}Ol@qGwaAkGgaAqGwaAyGsdAaHqfAyGecA}@uOsEor@mEor@mAcPyBq]wCsd@{@ePWeEcKy_BfH{@xM{A',\n",
       "    u'summary': {u'length': 1.351,\n",
       "     u'max_lat': 37.786625,\n",
       "     u'max_lon': -122.451698,\n",
       "     u'min_lat': 37.782791,\n",
       "     u'min_lon': -122.463524,\n",
       "     u'time': 964}},\n",
       "   {u'maneuvers': [{u'begin_shape_index': 0,\n",
       "      u'end_shape_index': 2,\n",
       "      u'instruction': u'Walk south on Locust Street.',\n",
       "      u'length': 0.036,\n",
       "      u'rough': True,\n",
       "      u'street_names': [u'Locust Street'],\n",
       "      u'time': 25,\n",
       "      u'travel_mode': u'pedestrian',\n",
       "      u'travel_type': u'foot',\n",
       "      u'type': 1,\n",
       "      u'verbal_pre_transition_instruction': u'Walk south on Locust Street for 40 meters.'},\n",
       "     {u'begin_shape_index': 2,\n",
       "      u'end_shape_index': 5,\n",
       "      u'instruction': u'Continue on Mayfair Drive.',\n",
       "      u'length': 0.146,\n",
       "      u'street_names': [u'Mayfair Drive'],\n",
       "      u'time': 103,\n",
       "      u'travel_mode': u'pedestrian',\n",
       "      u'travel_type': u'foot',\n",
       "      u'type': 8,\n",
       "      u'verbal_pre_transition_instruction': u'Continue on Mayfair Drive for 100 meters.',\n",
       "      u'verbal_transition_alert_instruction': u'Continue on Mayfair Drive.'},\n",
       "     {u'begin_shape_index': 5,\n",
       "      u'end_shape_index': 32,\n",
       "      u'instruction': u'Continue on Spruce Street.',\n",
       "      u'length': 0.632,\n",
       "      u'street_names': [u'Spruce Street'],\n",
       "      u'time': 460,\n",
       "      u'travel_mode': u'pedestrian',\n",
       "      u'travel_type': u'foot',\n",
       "      u'type': 8,\n",
       "      u'verbal_pre_transition_instruction': u'Continue on Spruce Street for 600 meters.',\n",
       "      u'verbal_transition_alert_instruction': u'Continue on Spruce Street.'},\n",
       "     {u'begin_shape_index': 32,\n",
       "      u'end_shape_index': 50,\n",
       "      u'instruction': u'Turn right onto Anza Street.',\n",
       "      u'length': 0.373,\n",
       "      u'street_names': [u'Anza Street'],\n",
       "      u'time': 270,\n",
       "      u'travel_mode': u'pedestrian',\n",
       "      u'travel_type': u'foot',\n",
       "      u'type': 10,\n",
       "      u'verbal_post_transition_instruction': u'Continue for 400 meters.',\n",
       "      u'verbal_pre_transition_instruction': u'Turn right onto Anza Street.',\n",
       "      u'verbal_transition_alert_instruction': u'Turn right onto Anza Street.'},\n",
       "     {u'begin_shape_index': 50,\n",
       "      u'end_shape_index': 76,\n",
       "      u'instruction': u'Turn left onto the walkway.',\n",
       "      u'length': 0.236,\n",
       "      u'rough': True,\n",
       "      u'time': 166,\n",
       "      u'travel_mode': u'pedestrian',\n",
       "      u'travel_type': u'foot',\n",
       "      u'type': 15,\n",
       "      u'verbal_post_transition_instruction': u'Continue for 200 meters.',\n",
       "      u'verbal_pre_transition_instruction': u'Turn left onto the walkway.',\n",
       "      u'verbal_transition_alert_instruction': u'Turn left onto the walkway.'},\n",
       "     {u'begin_shape_index': 76,\n",
       "      u'end_shape_index': 77,\n",
       "      u'instruction': u'Turn right onto Edward Street.',\n",
       "      u'length': 0.058,\n",
       "      u'street_names': [u'Edward Street'],\n",
       "      u'time': 41,\n",
       "      u'travel_mode': u'pedestrian',\n",
       "      u'travel_type': u'foot',\n",
       "      u'type': 10,\n",
       "      u'verbal_post_transition_instruction': u'Continue for 60 meters.',\n",
       "      u'verbal_pre_transition_instruction': u'Turn right onto Edward Street.',\n",
       "      u'verbal_transition_alert_instruction': u'Turn right onto Edward Street.'},\n",
       "     {u'begin_shape_index': 77,\n",
       "      u'end_shape_index': 86,\n",
       "      u'instruction': u'Turn left onto Arguello Boulevard.',\n",
       "      u'length': 0.272,\n",
       "      u'street_names': [u'Arguello Boulevard'],\n",
       "      u'time': 196,\n",
       "      u'travel_mode': u'pedestrian',\n",
       "      u'travel_type': u'foot',\n",
       "      u'type': 15,\n",
       "      u'verbal_post_transition_instruction': u'Continue for 300 meters.',\n",
       "      u'verbal_pre_transition_instruction': u'Turn left onto Arguello Boulevard.',\n",
       "      u'verbal_transition_alert_instruction': u'Turn left onto Arguello Boulevard.'},\n",
       "     {u'begin_shape_index': 86,\n",
       "      u'end_shape_index': 86,\n",
       "      u'instruction': u'Your destination is on the left.',\n",
       "      u'length': 0.0,\n",
       "      u'time': 0,\n",
       "      u'travel_mode': u'pedestrian',\n",
       "      u'travel_type': u'foot',\n",
       "      u'type': 6,\n",
       "      u'verbal_pre_transition_instruction': u'Your destination is on the left.',\n",
       "      u'verbal_transition_alert_instruction': u'Your destination will be on the left.'}],\n",
       "    u'shape': u'}fhagAdnzphF`RiC?NpBrZtEns@zAjULdEFjBNfCTxBVjBl@zAr@jAlAz@jAl@xANzA?tE?rF?bGObG?xFOlFMjFOjF]jF]|E_@dE]|E]lE]lfCeZjFm@ppAeOrF~{@rFry@l@nJxBp\\\\LfCVxBTxB\\\\jBzArFzAbGtDtNfEdPjAdEr@vCl@hC^vCThC\\\\dE|Em@xBMt@?z@?|@Lr@^rAj@dAlArAxArAzAbAzAt@jA\\\\|@l@xBd@hBhCxa@LjANjA\\\\zAl@jAd@\\\\l@^l@Lz@MhCLxf@aG~C~g@dP]xGOhRm@~H]rPm@`h@{AfC?n^kAzA\\\\',\n",
       "    u'summary': {u'length': 1.753,\n",
       "     u'max_lat': 37.78624,\n",
       "     u'max_lon': -122.45163,\n",
       "     u'min_lat': 37.77557,\n",
       "     u'min_lon': -122.458656,\n",
       "     u'time': 1261}},\n",
       "   {u'maneuvers': [{u'begin_shape_index': 0,\n",
       "      u'end_shape_index': 5,\n",
       "      u'instruction': u'Walk south on Arguello Boulevard.',\n",
       "      u'length': 0.141,\n",
       "      u'street_names': [u'Arguello Boulevard'],\n",
       "      u'time': 98,\n",
       "      u'travel_mode': u'pedestrian',\n",
       "      u'travel_type': u'foot',\n",
       "      u'type': 3,\n",
       "      u'verbal_pre_transition_instruction': u'Walk south on Arguello Boulevard for 100 meters.'},\n",
       "     {u'begin_shape_index': 5,\n",
       "      u'end_shape_index': 7,\n",
       "      u'instruction': u'Turn right onto Fulton Street.',\n",
       "      u'length': 0.011,\n",
       "      u'street_names': [u'Fulton Street'],\n",
       "      u'time': 8,\n",
       "      u'travel_mode': u'pedestrian',\n",
       "      u'travel_type': u'foot',\n",
       "      u'type': 10,\n",
       "      u'verbal_multi_cue': True,\n",
       "      u'verbal_post_transition_instruction': u'Continue for 10 meters.',\n",
       "      u'verbal_pre_transition_instruction': u'Turn right onto Fulton Street. Then Turn left onto the walkway.',\n",
       "      u'verbal_transition_alert_instruction': u'Turn right onto Fulton Street.'},\n",
       "     {u'begin_shape_index': 7,\n",
       "      u'end_shape_index': 13,\n",
       "      u'instruction': u'Turn left onto the walkway.',\n",
       "      u'length': 0.139,\n",
       "      u'rough': True,\n",
       "      u'time': 98,\n",
       "      u'travel_mode': u'pedestrian',\n",
       "      u'travel_type': u'foot',\n",
       "      u'type': 15,\n",
       "      u'verbal_post_transition_instruction': u'Continue for 100 meters.',\n",
       "      u'verbal_pre_transition_instruction': u'Turn left onto the walkway.',\n",
       "      u'verbal_transition_alert_instruction': u'Turn left onto the walkway.'},\n",
       "     {u'begin_shape_index': 13,\n",
       "      u'end_shape_index': 26,\n",
       "      u'instruction': u'Turn right onto Conservatory Drive West.',\n",
       "      u'length': 0.188,\n",
       "      u'street_names': [u'Conservatory Drive West'],\n",
       "      u'time': 133,\n",
       "      u'travel_mode': u'pedestrian',\n",
       "      u'travel_type': u'foot',\n",
       "      u'type': 10,\n",
       "      u'verbal_post_transition_instruction': u'Continue for 200 meters.',\n",
       "      u'verbal_pre_transition_instruction': u'Turn right onto Conservatory Drive West.',\n",
       "      u'verbal_transition_alert_instruction': u'Turn right onto Conservatory Drive West.'},\n",
       "     {u'begin_shape_index': 26,\n",
       "      u'end_shape_index': 27,\n",
       "      u'instruction': u'Turn right onto the walkway.',\n",
       "      u'length': 0.008,\n",
       "      u'rough': True,\n",
       "      u'time': 5,\n",
       "      u'travel_mode': u'pedestrian',\n",
       "      u'travel_type': u'foot',\n",
       "      u'type': 10,\n",
       "      u'verbal_multi_cue': True,\n",
       "      u'verbal_post_transition_instruction': u'Continue for less than 10 meters.',\n",
       "      u'verbal_pre_transition_instruction': u'Turn right onto the walkway. Then Turn left onto the walkway.',\n",
       "      u'verbal_transition_alert_instruction': u'Turn right onto the walkway.'},\n",
       "     {u'begin_shape_index': 27,\n",
       "      u'end_shape_index': 36,\n",
       "      u'instruction': u'Turn left onto the walkway.',\n",
       "      u'length': 0.13,\n",
       "      u'rough': True,\n",
       "      u'time': 92,\n",
       "      u'travel_mode': u'pedestrian',\n",
       "      u'travel_type': u'foot',\n",
       "      u'type': 15,\n",
       "      u'verbal_post_transition_instruction': u'Continue for 100 meters.',\n",
       "      u'verbal_pre_transition_instruction': u'Turn left onto the walkway.',\n",
       "      u'verbal_transition_alert_instruction': u'Turn left onto the walkway.'},\n",
       "     {u'begin_shape_index': 36,\n",
       "      u'end_shape_index': 38,\n",
       "      u'instruction': u'Turn right onto the walkway.',\n",
       "      u'length': 0.011,\n",
       "      u'time': 8,\n",
       "      u'travel_mode': u'pedestrian',\n",
       "      u'travel_type': u'foot',\n",
       "      u'type': 10,\n",
       "      u'verbal_multi_cue': True,\n",
       "      u'verbal_post_transition_instruction': u'Continue for 10 meters.',\n",
       "      u'verbal_pre_transition_instruction': u'Turn right onto the walkway. Then Turn left onto the walkway.',\n",
       "      u'verbal_transition_alert_instruction': u'Turn right onto the walkway.'},\n",
       "     {u'begin_shape_index': 38,\n",
       "      u'end_shape_index': 42,\n",
       "      u'instruction': u'Turn left onto the walkway.',\n",
       "      u'length': 0.029,\n",
       "      u'rough': True,\n",
       "      u'time': 24,\n",
       "      u'travel_mode': u'pedestrian',\n",
       "      u'travel_type': u'foot',\n",
       "      u'type': 15,\n",
       "      u'verbal_post_transition_instruction': u'Continue for 30 meters.',\n",
       "      u'verbal_pre_transition_instruction': u'Turn left onto the walkway.',\n",
       "      u'verbal_transition_alert_instruction': u'Turn left onto the walkway.'},\n",
       "     {u'begin_shape_index': 42,\n",
       "      u'end_shape_index': 43,\n",
       "      u'instruction': u'Turn right onto the walkway.',\n",
       "      u'length': 0.015,\n",
       "      u'time': 11,\n",
       "      u'travel_mode': u'pedestrian',\n",
       "      u'travel_type': u'foot',\n",
       "      u'type': 10,\n",
       "      u'verbal_post_transition_instruction': u'Continue for 20 meters.',\n",
       "      u'verbal_pre_transition_instruction': u'Turn right onto the walkway.',\n",
       "      u'verbal_transition_alert_instruction': u'Turn right onto the walkway.'},\n",
       "     {u'begin_shape_index': 43,\n",
       "      u'end_shape_index': 48,\n",
       "      u'instruction': u'Turn left onto the walkway.',\n",
       "      u'length': 0.069,\n",
       "      u'rough': True,\n",
       "      u'time': 49,\n",
       "      u'travel_mode': u'pedestrian',\n",
       "      u'travel_type': u'foot',\n",
       "      u'type': 15,\n",
       "      u'verbal_post_transition_instruction': u'Continue for 70 meters.',\n",
       "      u'verbal_pre_transition_instruction': u'Turn left onto the walkway.',\n",
       "      u'verbal_transition_alert_instruction': u'Turn left onto the walkway.'},\n",
       "     {u'begin_shape_index': 48,\n",
       "      u'end_shape_index': 59,\n",
       "      u'instruction': u'Turn left onto the walkway.',\n",
       "      u'length': 0.257,\n",
       "      u'rough': True,\n",
       "      u'time': 187,\n",
       "      u'travel_mode': u'pedestrian',\n",
       "      u'travel_type': u'foot',\n",
       "      u'type': 15,\n",
       "      u'verbal_post_transition_instruction': u'Continue for 300 meters.',\n",
       "      u'verbal_pre_transition_instruction': u'Turn left onto the walkway.',\n",
       "      u'verbal_transition_alert_instruction': u'Turn left onto the walkway.'},\n",
       "     {u'begin_shape_index': 59,\n",
       "      u'end_shape_index': 59,\n",
       "      u'instruction': u'Your destination is on the right.',\n",
       "      u'length': 0.0,\n",
       "      u'time': 0,\n",
       "      u'travel_mode': u'pedestrian',\n",
       "      u'travel_type': u'foot',\n",
       "      u'type': 5,\n",
       "      u'verbal_pre_transition_instruction': u'Your destination is on the right.',\n",
       "      u'verbal_transition_alert_instruction': u'Your destination will be on the right.'}],\n",
       "    u'shape': u'als`gAnwgqhFfS{AlO]lPm@hQ]|E]?fC?jB~H]pGz@xHdEbPtOrQfO`CO\\\\rFzAlTz@jL`Dvb@j@dFt@tEbAdEdAvCzAfDhBhChBhBzAjAxBzAaBxBhB|@vCjA|@\\\\nHdErFlJ~DzK|DjLjF~HzBhBWlA]vCzAl@xAl@jB\\\\dEjAiBpHlDxBvIfDl@xA\\\\pH\\\\xLxGzAxCbGbAdOFhM\\\\xLrAnI~D|JlDdO`Rp\\\\tKjB`MdE',\n",
       "    u'summary': {u'length': 0.998,\n",
       "     u'max_lat': 37.77557,\n",
       "     u'max_lon': -122.458389,\n",
       "     u'min_lat': 37.770199,\n",
       "     u'min_lon': -122.465202,\n",
       "     u'time': 713}},\n",
       "   {u'maneuvers': [{u'begin_shape_index': 0,\n",
       "      u'end_shape_index': 11,\n",
       "      u'instruction': u'Walk northwest on the walkway.',\n",
       "      u'length': 0.2,\n",
       "      u'rough': True,\n",
       "      u'time': 144,\n",
       "      u'travel_mode': u'pedestrian',\n",
       "      u'travel_type': u'foot',\n",
       "      u'type': 3,\n",
       "      u'verbal_pre_transition_instruction': u'Walk northwest on the walkway for 200 meters.'},\n",
       "     {u'begin_shape_index': 11,\n",
       "      u'end_shape_index': 18,\n",
       "      u'instruction': u'Turn right onto the walkway.',\n",
       "      u'length': 0.086,\n",
       "      u'rough': True,\n",
       "      u'time': 64,\n",
       "      u'travel_mode': u'pedestrian',\n",
       "      u'travel_type': u'foot',\n",
       "      u'type': 10,\n",
       "      u'verbal_post_transition_instruction': u'Continue for 90 meters.',\n",
       "      u'verbal_pre_transition_instruction': u'Turn right onto the walkway.',\n",
       "      u'verbal_transition_alert_instruction': u'Turn right onto the walkway.'},\n",
       "     {u'begin_shape_index': 18,\n",
       "      u'end_shape_index': 22,\n",
       "      u'instruction': u'Turn right onto John F Kennedy Drive.',\n",
       "      u'length': 0.054,\n",
       "      u'street_names': [u'John F Kennedy Drive'],\n",
       "      u'time': 38,\n",
       "      u'travel_mode': u'pedestrian',\n",
       "      u'travel_type': u'foot',\n",
       "      u'type': 10,\n",
       "      u'verbal_post_transition_instruction': u'Continue for 50 meters.',\n",
       "      u'verbal_pre_transition_instruction': u'Turn right onto John F Kennedy Drive.',\n",
       "      u'verbal_transition_alert_instruction': u'Turn right onto John F Kennedy Drive.'},\n",
       "     {u'begin_shape_index': 22,\n",
       "      u'end_shape_index': 33,\n",
       "      u'instruction': u'Turn left onto the walkway.',\n",
       "      u'length': 0.129,\n",
       "      u'time': 93,\n",
       "      u'travel_mode': u'pedestrian',\n",
       "      u'travel_type': u'foot',\n",
       "      u'type': 15,\n",
       "      u'verbal_post_transition_instruction': u'Continue for 100 meters.',\n",
       "      u'verbal_pre_transition_instruction': u'Turn left onto the walkway.',\n",
       "      u'verbal_transition_alert_instruction': u'Turn left onto the walkway.'},\n",
       "     {u'begin_shape_index': 33,\n",
       "      u'end_shape_index': 35,\n",
       "      u'instruction': u'Turn right onto the walkway.',\n",
       "      u'length': 0.01,\n",
       "      u'rough': True,\n",
       "      u'time': 7,\n",
       "      u'travel_mode': u'pedestrian',\n",
       "      u'travel_type': u'foot',\n",
       "      u'type': 10,\n",
       "      u'verbal_multi_cue': True,\n",
       "      u'verbal_post_transition_instruction': u'Continue for 10 meters.',\n",
       "      u'verbal_pre_transition_instruction': u'Turn right onto the walkway. Then Turn left onto the walkway.',\n",
       "      u'verbal_transition_alert_instruction': u'Turn right onto the walkway.'},\n",
       "     {u'begin_shape_index': 35,\n",
       "      u'end_shape_index': 38,\n",
       "      u'instruction': u'Turn left onto the walkway.',\n",
       "      u'length': 0.023,\n",
       "      u'rough': True,\n",
       "      u'time': 16,\n",
       "      u'travel_mode': u'pedestrian',\n",
       "      u'travel_type': u'foot',\n",
       "      u'type': 15,\n",
       "      u'verbal_post_transition_instruction': u'Continue for 20 meters.',\n",
       "      u'verbal_pre_transition_instruction': u'Turn left onto the walkway.',\n",
       "      u'verbal_transition_alert_instruction': u'Turn left onto the walkway.'},\n",
       "     {u'begin_shape_index': 38,\n",
       "      u'end_shape_index': 39,\n",
       "      u'instruction': u'Turn left onto Fulton Street.',\n",
       "      u'length': 0.01,\n",
       "      u'street_names': [u'Fulton Street'],\n",
       "      u'time': 7,\n",
       "      u'travel_mode': u'pedestrian',\n",
       "      u'travel_type': u'foot',\n",
       "      u'type': 15,\n",
       "      u'verbal_multi_cue': True,\n",
       "      u'verbal_post_transition_instruction': u'Continue for 10 meters.',\n",
       "      u'verbal_pre_transition_instruction': u'Turn left onto Fulton Street. Then Turn right onto 6th Avenue.',\n",
       "      u'verbal_transition_alert_instruction': u'Turn left onto Fulton Street.'},\n",
       "     {u'begin_shape_index': 39,\n",
       "      u'end_shape_index': 44,\n",
       "      u'instruction': u'Turn right onto 6th Avenue.',\n",
       "      u'length': 0.611,\n",
       "      u'street_names': [u'6th Avenue'],\n",
       "      u'time': 440,\n",
       "      u'travel_mode': u'pedestrian',\n",
       "      u'travel_type': u'foot',\n",
       "      u'type': 10,\n",
       "      u'verbal_post_transition_instruction': u'Continue for 600 meters.',\n",
       "      u'verbal_pre_transition_instruction': u'Turn right onto 6th Avenue.',\n",
       "      u'verbal_transition_alert_instruction': u'Turn right onto 6th Avenue.'},\n",
       "     {u'begin_shape_index': 44,\n",
       "      u'end_shape_index': 44,\n",
       "      u'instruction': u'You have arrived at your destination.',\n",
       "      u'length': 0.0,\n",
       "      u'time': 0,\n",
       "      u'travel_mode': u'pedestrian',\n",
       "      u'travel_type': u'foot',\n",
       "      u'type': 4,\n",
       "      u'verbal_pre_transition_instruction': u'You have arrived at your destination.',\n",
       "      u'verbal_transition_alert_instruction': u'You will arrive at your destination.'}],\n",
       "    u'shape': u'k|h`gAdztqhFDm@gMwCuKkBuIfDiHxBcFMgI?{GLaLhC}J\\\\mK|@gHgN{AwDm@aHoDcFyB_@iB]wC{@z@cG|@sFbAcGpBkKyB}@yB{@eE\\\\_D}@mOeEsBkAyB{AcFgCgDOwD?yF|@O{AcAkBsA?{A?eFM^tEib@jAehAfDoDL{mBbGatBbG',\n",
       "    u'summary': {u'length': 1.123,\n",
       "     u'max_lat': 37.779106,\n",
       "     u'max_lon': -122.463661,\n",
       "     u'min_lat': 37.770195,\n",
       "     u'min_lon': -122.465309,\n",
       "     u'time': 809}}],\n",
       "  u'locations': [{u'lat': 37.77911, u'lon': -122.464188, u'type': u'break'},\n",
       "   {u'lat': 37.781132,\n",
       "    u'lon': -122.469955,\n",
       "    u'side_of_street': u'left',\n",
       "    u'type': u'break'},\n",
       "   {u'lat': 37.783707,\n",
       "    u'lon': -122.483002,\n",
       "    u'side_of_street': u'left',\n",
       "    u'type': u'break'},\n",
       "   {u'lat': 37.782784,\n",
       "    u'lon': -122.463509,\n",
       "    u'side_of_street': u'right',\n",
       "    u'type': u'break'},\n",
       "   {u'lat': 37.786205, u'lon': -122.451843, u'type': u'break'},\n",
       "   {u'lat': 37.775581,\n",
       "    u'lon': -122.458336,\n",
       "    u'side_of_street': u'left',\n",
       "    u'type': u'break'},\n",
       "   {u'lat': 37.770016,\n",
       "    u'lon': -122.465614,\n",
       "    u'side_of_street': u'right',\n",
       "    u'type': u'break'},\n",
       "   {u'lat': 37.77911, u'lon': -122.464188, u'type': u'break'}],\n",
       "  u'status': 0,\n",
       "  u'status_message': u'Found route between points',\n",
       "  u'summary': {u'length': 9.357,\n",
       "   u'max_lat': 37.786625,\n",
       "   u'max_lon': -122.45163,\n",
       "   u'min_lat': 37.770195,\n",
       "   u'min_lon': -122.482903,\n",
       "   u'time': 6785},\n",
       "  u'units': u'kilometers'}}"
      ]
     },
     "execution_count": 31,
     "metadata": {},
     "output_type": "execute_result"
    }
   ],
   "source": [
    "walk_opt['raw']"
   ]
  },
  {
   "cell_type": "code",
   "execution_count": 32,
   "metadata": {
    "collapsed": false
   },
   "outputs": [
    {
     "name": "stdout",
     "output_type": "stream",
     "text": [
      "['Home', 'Pizzetta', 'Lamps Plus', 'Toy Boat', \"Noah's Bagels\", 'Arguello Market', 'de Young Museum', 'Home']\n",
      "29 minutes\n",
      "11.08 km\n"
     ]
    }
   ],
   "source": [
    "bike_opt = optimize_stops(home, stops, stop_labels = stop_labels,costing = 'bicycle')\n",
    "print bike_opt['order']\n",
    "print str(bike_opt['time']) + ' minutes'\n",
    "print str(bike_opt['length']) + ' km'"
   ]
  },
  {
   "cell_type": "markdown",
   "metadata": {},
   "source": [
    "## Determining Stops and Order with Multiple People"
   ]
  },
  {
   "cell_type": "markdown",
   "metadata": {},
   "source": [
    "Now that I have a working function that wraps Mapzen's optimize route service, I am ready to extend it work with multiple people. The general approach is to first find the unique combinations that a list of stops can be split among a given number of people, and then determine in which of these combinations minimizes the maximum time of any 1 person. \n",
    "\n",
    "### Unique ways that stops can be split\n",
    "I use a function adapted from [here](http://stackoverflow.com/a/39199937/3776938) to find the unique ways in that a list of N elements can be partitioned into K groups. This function is written so that the order of groups or of elements within a group does not matter. By this I mean that ```[['A','B'],['C','D']]``` is considered identical to ```[['C','D'],['A','B']]``` as well as to ```[['B','A'],['C','D']]```."
   ]
  },
  {
   "cell_type": "code",
   "execution_count": 33,
   "metadata": {
    "collapsed": false
   },
   "outputs": [],
   "source": [
    "def sorted_k_partitions(seq, k):\n",
    "    n = len(seq)\n",
    "    working_partition = []\n",
    "\n",
    "    def generate_partitions(i):\n",
    "        if i >=  n:\n",
    "            yield list(map(tuple, working_partition))\n",
    "        else:\n",
    "            if n - i > k - len(working_partition):\n",
    "                for part in working_partition:\n",
    "                    part.append(seq[i])\n",
    "                    for bar in generate_partitions(i + 1):\n",
    "                        yield bar\n",
    "                    part.pop()\n",
    "\n",
    "            if len(working_partition) < k:\n",
    "                working_partition.append([seq[i]])\n",
    "                for bar in generate_partitions(i + 1):\n",
    "                    yield bar\n",
    "                working_partition.pop()\n",
    "\n",
    "    result = generate_partitions(0)\n",
    "\n",
    "    # Sort the parts in each partition in shortlex order and then by the length of each part, \n",
    "    #and then lexicographically\n",
    "    result = [sorted(ps, key = lambda p: (len(p), p)) for ps in result]\n",
    "    result = sorted(result, key = lambda ps: (map(len, ps), ps))\n",
    "    return result"
   ]
  },
  {
   "cell_type": "markdown",
   "metadata": {},
   "source": [
    "I demonstrate an application of the function below, showing the 7 unique ways that 4 stops can be split among 3 people. Obviously if I were to split these 4 stops among 4 people or among 1 person, there is only 1 possible solution for each case (as shown below). "
   ]
  },
  {
   "cell_type": "code",
   "execution_count": 34,
   "metadata": {
    "collapsed": false
   },
   "outputs": [
    {
     "name": "stdout",
     "output_type": "stream",
     "text": [
      "[('A',), ('B', 'C', 'D')]\n",
      "[('B',), ('A', 'C', 'D')]\n",
      "[('C',), ('A', 'B', 'D')]\n",
      "[('D',), ('A', 'B', 'C')]\n",
      "[('A', 'B'), ('C', 'D')]\n",
      "[('A', 'C'), ('B', 'D')]\n",
      "[('A', 'D'), ('B', 'C')]\n"
     ]
    }
   ],
   "source": [
    "for c in sorted_k_partitions(['A', 'B', 'C', 'D'], 2):\n",
    "    print c"
   ]
  },
  {
   "cell_type": "code",
   "execution_count": 35,
   "metadata": {
    "collapsed": false
   },
   "outputs": [
    {
     "name": "stdout",
     "output_type": "stream",
     "text": [
      "[('A',), ('B',), ('C',), ('D',)]\n"
     ]
    }
   ],
   "source": [
    "for c in sorted_k_partitions(['A', 'B', 'C', 'D'], 4):\n",
    "    print c"
   ]
  },
  {
   "cell_type": "code",
   "execution_count": 36,
   "metadata": {
    "collapsed": false
   },
   "outputs": [
    {
     "name": "stdout",
     "output_type": "stream",
     "text": [
      "[('A', 'B', 'C', 'D')]\n"
     ]
    }
   ],
   "source": [
    "for c in sorted_k_partitions(['A', 'B', 'C', 'D'], 1):\n",
    "    print c"
   ]
  },
  {
   "cell_type": "markdown",
   "metadata": {},
   "source": [
    "### Optimizing Stops Among K People\n",
    "I then write a function that wraps my single-person route optimization function. The function applies the original function to each unique way that the stops can be partitioned, and determines the the partition that minimizes the maximum time of the travelers. The input is identical to the original function except for the ```num_travelers``` parameter. If ```num_travelers``` is set to 1, the result will be identical between the two functions.\n",
    "\n",
    "The output too is nearly identical to the previous function - a dictionary containing stop order, stop points, and trip time. However, now the function returns a list of these values, where the length of the list is equal to the number of travelers."
   ]
  },
  {
   "cell_type": "code",
   "execution_count": 37,
   "metadata": {
    "collapsed": true
   },
   "outputs": [],
   "source": [
    "def optimize_stops_mult(home, stops, num_travelers, costing = 'pedestrian', api_key = matrix_key, home_label = 'Home',\n",
    "                  stop_labels = None):\n",
    "    #get all possible options in which the stops can be broken up between the specified number of travelers\n",
    "    options = sorted_k_partitions(stops, num_travelers)\n",
    "    #create lists to store sublists of the time, name order, and point order for each option and traveler\n",
    "    all_times = []\n",
    "    all_orders = []\n",
    "    all_points = []\n",
    "    all_lines = []\n",
    "    for option in options: #loop through each possible way to split the stops\n",
    "        #create lists to store the time, name order, and point order for each traveler\n",
    "        option_times = [] \n",
    "        option_orders = []\n",
    "        option_points = []\n",
    "        option_lines = []\n",
    "        #calculate the optimal stop order for each traveler with each set of stop options\n",
    "        #using the previously defined function\n",
    "        #append relevant information to lists\n",
    "        for traveler in option:\n",
    "            sub_labels = [stop_labels[stops.index(x)] for x in traveler] if stop_labels else None\n",
    "\n",
    "            result = optimize_stops(home = home, stops = list(traveler), costing = costing, api_key = api_key,\n",
    "                                  home_label = home_label, stop_labels = sub_labels)\n",
    "            option_times.append(result['time'])\n",
    "            option_orders.append(result['order'])\n",
    "            option_points.append(result['points'])\n",
    "            option_lines.append(result['line'])\n",
    "\n",
    "        all_times.append(option_times)\n",
    "        all_orders.append(option_orders)\n",
    "        all_points.append(option_points)\n",
    "        all_lines.append(option_lines)\n",
    "\n",
    "    #get the index of the option that minimizes the max of any time that a traveler takes\n",
    "    minloc = np.argmin([max(time) for time in all_times])\n",
    "    \n",
    "    #return a dictionary of the stop order, points, and time for the optimized options\n",
    "    opt_order = [x[1: -1] for x in all_orders[minloc]]\n",
    "    opt_times = all_times[minloc]\n",
    "    opt_points = [x[1: -1] for x in all_points[minloc]]\n",
    "    home_point = [x[0] for x in all_points[minloc]][0]\n",
    "    polylines = all_lines[minloc]\n",
    "    return {'order': opt_order, 'time': opt_times, 'points': opt_points, 'home_point': home_point, 'lines':polylines}\n"
   ]
  },
  {
   "cell_type": "markdown",
   "metadata": {},
   "source": [
    "I use the same set of 6 stops in the Inner Richmond, but now specify that there will be two travelers. I extract the ordered set of stops for each of the two travelers, the time (in minutes) that each person's trip will take, and then plot the stops as well as the routes on a map.\n",
    "\n",
    "As you can see, when I extract the stop order from the dictionary I get a list of two ordered sublists. This indicates that the first person should go to Pizzetta and Lamps Plus and the second person should go to Toy Boat, Noah's Bagels, Arguello, Market, and the de Young Museum (in that order). It may seem unfair that one person has to do 4 stops and the other only 2, but as you can see on the map, Pizzetta is much further away from home than the others. The person that makes the two stop trip will spend 53 minutes and the person that makes the four stop trip will spend 68 minutes. 68 minutes is the minimum amount of time that the person with the longer trip takes in any combination ways that these can be partitioned. \n",
    "\n",
    "In the map, the home location is shown in black, and each person's stops are shown in a different color. Stops are labeled with the stop name as well as the stop number (showing the order that the stops should be visited by each person)."
   ]
  },
  {
   "cell_type": "code",
   "execution_count": 39,
   "metadata": {
    "collapsed": false
   },
   "outputs": [
    {
     "name": "stdout",
     "output_type": "stream",
     "text": [
      "1 loop, best of 3: 45.8 s per loop\n"
     ]
    }
   ],
   "source": [
    "%%timeit\n",
    "opt_2_people = optimize_stops_mult(home, stops, num_travelers = 2, stop_labels = stop_labels)"
   ]
  },
  {
   "cell_type": "code",
   "execution_count": 40,
   "metadata": {
    "collapsed": false
   },
   "outputs": [
    {
     "name": "stdout",
     "output_type": "stream",
     "text": [
      "['Pizzetta', 'Lamps Plus']\n",
      "['de Young Museum', 'Arguello Market', \"Noah's Bagels\", 'Toy Boat']\n"
     ]
    }
   ],
   "source": [
    "for i in opt_2_people['order']:\n",
    "    print i"
   ]
  },
  {
   "cell_type": "code",
   "execution_count": 41,
   "metadata": {
    "collapsed": false
   },
   "outputs": [
    {
     "data": {
      "text/plain": [
       "[53, 68]"
      ]
     },
     "execution_count": 41,
     "metadata": {},
     "output_type": "execute_result"
    }
   ],
   "source": [
    "opt_2_people['time']"
   ]
  },
  {
   "cell_type": "code",
   "execution_count": 42,
   "metadata": {
    "collapsed": false
   },
   "outputs": [
    {
     "data": {
      "text/html": [
       "<div style=\"width:100%;\"><div style=\"position:relative;width:100%;height:0;padding-bottom:60%;\"><iframe src=\"data:text/html;base64,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\" style=\"position:absolute;width:100%;height:100%;left:0;top:0;\"></iframe></div></div>"
      ],
      "text/plain": [
       "<folium.folium.Map at 0xd8aef30>"
      ]
     },
     "execution_count": 42,
     "metadata": {},
     "output_type": "execute_result"
    }
   ],
   "source": [
    "points = [[opt_2_people['home_point']]] + opt_2_people['points']\n",
    "labels = [['Home']] + [[' - '.join((str(i), x)) for i, x in enumerate(l, 1)] for l in opt_2_people['order']]\n",
    "\n",
    "\n",
    "m1 = plot_stops(points, zoom_level = 14, tiles = 'Stamen Watercolor', labels = labels, line_coords = opt_2_people['lines'])\n",
    "m1"
   ]
  },
  {
   "cell_type": "markdown",
   "metadata": {},
   "source": [
    "I also run the function on the same set of stops, this time specifying bike transportation. As you can see the routes are slightly different, favoring roads that are better for biking. The times are also much shorter (12 and 18 minutes vs 53 and 68)."
   ]
  },
  {
   "cell_type": "code",
   "execution_count": 43,
   "metadata": {
    "collapsed": false
   },
   "outputs": [
    {
     "name": "stdout",
     "output_type": "stream",
     "text": [
      "[12, 18]\n"
     ]
    }
   ],
   "source": [
    "opt_2_people_bike = optimize_stops_mult(home, stops, num_travelers = 2, stop_labels = stop_labels, costing = 'bicycle')\n",
    "print opt_2_people_bike['time']"
   ]
  },
  {
   "cell_type": "code",
   "execution_count": 44,
   "metadata": {
    "collapsed": false
   },
   "outputs": [
    {
     "data": {
      "text/html": [
       "<div style=\"width:100%;\"><div style=\"position:relative;width:100%;height:0;padding-bottom:60%;\"><iframe src=\"data:text/html;base64,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\" style=\"position:absolute;width:100%;height:100%;left:0;top:0;\"></iframe></div></div>"
      ],
      "text/plain": [
       "<folium.folium.Map at 0xdd74f90>"
      ]
     },
     "execution_count": 44,
     "metadata": {},
     "output_type": "execute_result"
    }
   ],
   "source": [
    "points = [[opt_2_people_bike['home_point']]] + opt_2_people_bike['points']\n",
    "labels = [['Home']]+[[' - '.join((str(i), x)) for i, x in enumerate(l, 1)] for l in opt_2_people_bike['order']]\n",
    "\n",
    "m2 = plot_stops(points, zoom_level = 14, tiles = 'Stamen Watercolor', labels = labels, line_coords = opt_2_people_bike['lines'])\n",
    "m2"
   ]
  },
  {
   "cell_type": "markdown",
   "metadata": {},
   "source": [
    "Now let's say that Celeste and I have a friend who's willing to help us with our errands. I run the optimization function again, now specifying 3 travelers. The results from this indicated that one person should go to Pizzetta, one person should go to Toy Boat and Noah's Bagels, and one person should go to Lamp's Plus, the de Young, and Arguello Market. In this case, the person with the fewest amount of stops has the longest travel time (52 minutes), and the full set of errands will be made 15 minutes faster than it was with only 2 people."
   ]
  },
  {
   "cell_type": "code",
   "execution_count": 45,
   "metadata": {
    "collapsed": false
   },
   "outputs": [],
   "source": [
    "opt_3_people = optimize_stops_mult(home, stops, 3, stop_labels = stop_labels)"
   ]
  },
  {
   "cell_type": "code",
   "execution_count": 46,
   "metadata": {
    "collapsed": false
   },
   "outputs": [
    {
     "name": "stdout",
     "output_type": "stream",
     "text": [
      "['Pizzetta']\n",
      "['Toy Boat', \"Noah's Bagels\"]\n",
      "['Lamps Plus', 'de Young Museum', 'Arguello Market']\n"
     ]
    }
   ],
   "source": [
    "for i in opt_3_people['order']:\n",
    "    print i"
   ]
  },
  {
   "cell_type": "code",
   "execution_count": 47,
   "metadata": {
    "collapsed": false
   },
   "outputs": [
    {
     "data": {
      "text/plain": [
       "[52, 44, 49]"
      ]
     },
     "execution_count": 47,
     "metadata": {},
     "output_type": "execute_result"
    }
   ],
   "source": [
    "opt_3_people['time']"
   ]
  },
  {
   "cell_type": "code",
   "execution_count": 48,
   "metadata": {
    "collapsed": false
   },
   "outputs": [
    {
     "data": {
      "text/html": [
       "<div style=\"width:100%;\"><div style=\"position:relative;width:100%;height:0;padding-bottom:60%;\"><iframe src=\"data:text/html;base64,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\" style=\"position:absolute;width:100%;height:100%;left:0;top:0;\"></iframe></div></div>"
      ],
      "text/plain": [
       "<folium.folium.Map at 0xddab910>"
      ]
     },
     "execution_count": 48,
     "metadata": {},
     "output_type": "execute_result"
    }
   ],
   "source": [
    "points = [[opt_3_people['home_point']]] + opt_3_people['points']\n",
    "labels = [['Home']] + [[' - '.join((str(i), x)) for i, x in enumerate(l, 1)] for l in opt_3_people['order']]\n",
    "\n",
    "m3 = plot_stops(points, zoom_level = 14, tiles = 'Stamen Watercolor', labels = labels,line_coords = opt_3_people['lines'])\n",
    "m3"
   ]
  },
  {
   "cell_type": "code",
   "execution_count": 43,
   "metadata": {
    "collapsed": false
   },
   "outputs": [],
   "source": [
    "sf_landmarks.save('sutro_transamerica.html')\n",
    "sf_rand_points.save('sf_random_points.html')\n",
    "m1.save('optimize_stops_2_people_walk.html')\n",
    "m2.save('optimize_stops_2_people_bike.html')\n",
    "m3.save('optimize_stops_3_people_walk.html')\n"
   ]
  }
 ],
 "metadata": {
  "kernelspec": {
   "display_name": "Python 2",
   "language": "python",
   "name": "python2"
  },
  "language_info": {
   "codemirror_mode": {
    "name": "ipython",
    "version": 2
   },
   "file_extension": ".py",
   "mimetype": "text/x-python",
   "name": "python",
   "nbconvert_exporter": "python",
   "pygments_lexer": "ipython2",
   "version": "2.7.11"
  }
 },
 "nbformat": 4,
 "nbformat_minor": 0
}
